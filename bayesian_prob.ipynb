{
 "cells": [
  {
   "cell_type": "markdown",
   "metadata": {},
   "source": [
    "# Section 06 \n",
    "### Introduction to Data Science EN.553.436/EN.553.636 - Fall 2021"
   ]
  },
  {
   "cell_type": "markdown",
   "metadata": {},
   "source": [
    "# 1. Bayesian Parameter Estimation"
   ]
  },
  {
   "cell_type": "markdown",
   "metadata": {},
   "source": [
    "## Problem 1\n",
    "Load the following samples."
   ]
  },
  {
   "cell_type": "code",
   "execution_count": 1,
   "metadata": {},
   "outputs": [],
   "source": [
    "import numpy as np\n",
    "import matplotlib.pyplot as plt"
   ]
  },
  {
   "cell_type": "code",
   "execution_count": 2,
   "metadata": {},
   "outputs": [],
   "source": [
    "X1 = np.array([ 1.62434536, -0.61175641, -0.52817175, -2.07296862,  3.86540763])\n",
    "X2= np.array([-0.41675785, -0.05626683, -2.1361961 ,  1.64027081, -1.79343559, -0.84174737,  0.50288142, -1.24528809, -1.05795222, -0.90900761])"
   ]
  },
  {
   "cell_type": "markdown",
   "metadata": {},
   "source": [
    "## 1.1\n",
    "$X_1$ and $X_2$ are samples from the same distribution.  You are certain that they were collected from a $\\mathcal{N}(\\mu, \\sigma^2 = 1)$ distribution, where $\\mu$ is unknown.  Write a Python function that computes the posterior density of $\\mu$ given *any* sample; let the prior distribution of $\\mu$ be $\\mathcal{N}(3, 1)$."
   ]
  },
  {
   "cell_type": "markdown",
   "metadata": {},
   "source": [
    "Ensure that your posterior density is in fact a density (which requires that it integrate to 1).  It may be helpful to use np.trapz()."
   ]
  },
  {
   "cell_type": "code",
   "execution_count": 3,
   "metadata": {},
   "outputs": [],
   "source": [
    "from scipy.stats import norm as gaussian\n",
    "\n",
    "def prior(mu_array, prior_mu, prior_sigma):\n",
    "    return gaussian.pdf(mu_array, loc = prior_mu, scale = prior_sigma)\n",
    "\n",
    "def likelihood(mu_array, sample):# https://medium.com/python-features/naming-conventions-with-underscores-in-python-791251ac7097\n",
    "    return np.array([np.prod(gaussian.pdf(sample, loc = mu, scale = 1)) for mu in mu_array])\n",
    "\n",
    "def posterior(mu_array, sample, prior_mu, prior_sigma, support):\n",
    "    # evaluates the posterior density of mu\n",
    "    prior_ = prior(mu_array, prior_mu, prior_sigma)\n",
    "    likelihood_ = likelihood(mu_array, sample)\n",
    "    integrand = prior(support, prior_mu, prior_sigma) * likelihood(support, sample)\n",
    "    normalize = np.trapz(integrand, support)\n",
    "    posterior_ = (prior_ * likelihood_) / normalize\n",
    "    return posterior_"
   ]
  },
  {
   "cell_type": "markdown",
   "metadata": {},
   "source": [
    "## 1.2\n",
    "What does this prior density suggest our our beliefs regarding $\\mu$?  How could we adjust this prior to reflect more/less confident prior beliefs about $\\mu$?"
   ]
  },
  {
   "cell_type": "markdown",
   "metadata": {},
   "source": [
    "A1: This prior places highest density on mu = 3, suggesting a belief that the mean of the distribution \n",
    "   from which the samples were generated is approximately 3"
   ]
  },
  {
   "cell_type": "markdown",
   "metadata": {},
   "source": [
    "A2: If we were less confident in this belief, we'd place less density on mu = 3 in our prior by increasing the prior variance"
   ]
  },
  {
   "cell_type": "markdown",
   "metadata": {},
   "source": [
    "## 1.3\n",
    "Plot the prior distribution of $\\mu$, the posterior distribution of $\\mu$ given $X1$, and the posterior distribution of $\\mu$ given $X1$ and $X2$."
   ]
  },
  {
   "cell_type": "code",
   "execution_count": 4,
   "metadata": {},
   "outputs": [],
   "source": [
    "support = np.linspace(-5, 10, 200)"
   ]
  },
  {
   "cell_type": "code",
   "execution_count": 5,
   "metadata": {},
   "outputs": [],
   "source": [
    "prior_grid = prior(support, 3, 1)\n",
    "posterior_grid1 = posterior(support, X1, 3, 1, support)\n",
    "X = np.concatenate([X1, X2])\n",
    "posterior_grid_full = posterior(support, X, 3, 1, support)"
   ]
  },
  {
   "cell_type": "code",
   "execution_count": 6,
   "metadata": {},
   "outputs": [
    {
     "data": {
      "text/plain": [
       "<matplotlib.legend.Legend at 0x7fe76a391df0>"
      ]
     },
     "execution_count": 6,
     "metadata": {},
     "output_type": "execute_result"
    },
    {
     "data": {
      "image/png": "[encoded data removed]",
      "text/plain": [
       "<Figure size 432x288 with 1 Axes>"
      ]
     },
     "metadata": {
      "needs_background": "light"
     },
     "output_type": "display_data"
    }
   ],
   "source": [
    "fig, ax = plt.subplots(1,1)\n",
    "ax.plot(support, prior_grid)\n",
    "ax.plot(support, np.array(posterior_grid1))\n",
    "ax.plot(support, np.array(posterior_grid_full))\n",
    "ax.legend(labels=[\"Prior\", \"Posterior | X1\", \"Posterior | X1 and X2\"])"
   ]
  },
  {
   "cell_type": "markdown",
   "metadata": {},
   "source": [
    "## 1.4\n",
    "Do these plots suggest that our prior beliefs about $\\mu$ were (approximately) correct?  Explain.\n",
    "If not, provide an estimate for $\\mu$ based on the posterior density obtained using $X_1$ and $X_2$."
   ]
  },
  {
   "cell_type": "code",
   "execution_count": 7,
   "metadata": {},
   "outputs": [],
   "source": [
    "#A: No, as more data is collected, the mode of the posterior distribution decreases noticeably"
   ]
  },
  {
   "cell_type": "code",
   "execution_count": 8,
   "metadata": {},
   "outputs": [
    {
     "data": {
      "text/plain": [
       "-0.10050251256281406"
      ]
     },
     "execution_count": 8,
     "metadata": {},
     "output_type": "execute_result"
    }
   ],
   "source": [
    "mle = support[np.argmax(posterior_grid_full)]\n",
    "mle"
   ]
  },
  {
   "cell_type": "markdown",
   "metadata": {},
   "source": [
    "## 1.5\n",
    "Repeat problem 1.1 (creating a function to compute the posterior density given the sample) and 1.3 (ploting the prior and posterior distributions of $\\mu$), except employ the prior $f$ where $f(x) = 1$ for $-2 \\leq x \\leq -2$ and $f(x) = 0$ otherwise. Also, answer the following:\n",
    " 1. $f$ isn't a density (i.e., $f$ is an improper prior), but why doesn't that matter?\n",
    " 2. What beliefs about the the true distribution from which our sample was drawn does this prior encode?  How confident are these beliefs?"
   ]
  },
  {
   "cell_type": "markdown",
   "metadata": {},
   "source": [
    "A1: When computing the posterior, we divide by the prior * likelihood by the integral of this\n",
    "   quantity over the real line, ensuring that our posterior integrates to one and is in fact a\n",
    "   density; this does not require that our prior integrate to 1, though.\n",
    "   The prior need not be a density insofar as it reflects our beliefs about\n",
    "   the relative probabilities of the possible values of the parameter of interest\n",
    "\n",
    "A2: The prior reflects the belief that mu lies in the interval [-2, 2], with each point in this interval being\n",
    "   being equally likely.  Since it places 0 probability outside this interval, the prior * likelihood\n",
    "   and, thus, the posterior density computed at any point outside this interval will be 0.\n",
    "   Thus, this prior reflects the belief with 100% confidence that -2 <= mu <= 2."
   ]
  },
  {
   "cell_type": "code",
   "execution_count": 10,
   "metadata": {},
   "outputs": [],
   "source": [
    "def prior2(mu_array):\n",
    "    return (mu_array >= -2) & (mu_array <= 2)\n",
    "\n",
    "def likelihood2(mu_array, sample):\n",
    "    return np.array([np.prod(gaussian.pdf(sample, loc = mu, scale = 1)) for mu in mu_array])\n",
    "\n",
    "def posterior2(mu_array, sample, support):\n",
    "    # evaluates the posterior density of mu\n",
    "    prior_ = prior2(mu_array)\n",
    "    likelihood_ = likelihood2(mu_array, sample)\n",
    "    integrand = prior2(support) * likelihood2(support, sample)\n",
    "    normalize = np.trapz(integrand, support)\n",
    "    posterior_ = (prior_ * likelihood_) / normalize\n",
    "    return posterior_"
   ]
  },
  {
   "cell_type": "code",
   "execution_count": 13,
   "metadata": {},
   "outputs": [],
   "source": [
    "support = np.linspace(-5, 10, 200)\n",
    "prior_grid2 = prior2(support)\n",
    "posterior_grid2 = posterior2(support, X1, support)\n",
    "X = np.concatenate([X1, X2])\n",
    "posterior_grid_full2 = posterior2(support, X, support)"
   ]
  },
  {
   "cell_type": "code",
   "execution_count": 14,
   "metadata": {},
   "outputs": [
    {
     "data": {
      "text/plain": [
       "<matplotlib.legend.Legend at 0x7fe76a535b20>"
      ]
     },
     "execution_count": 14,
     "metadata": {},
     "output_type": "execute_result"
    },
    {
     "data": {
      "image/png": "[encoded data removed]",
      "text/plain": [
       "<Figure size 432x288 with 1 Axes>"
      ]
     },
     "metadata": {
      "needs_background": "light"
     },
     "output_type": "display_data"
    }
   ],
   "source": [
    "fig, ax = plt.subplots(1,1)\n",
    "ax.plot(support, prior_grid2)\n",
    "ax.plot(support, np.array(posterior_grid2))\n",
    "ax.plot(support, np.array(posterior_grid_full2))\n",
    "ax.legend(labels=[\"Prior\", \"Posterior | X1\", \"Posterior | X1 and X2\"])"
   ]
  },
  {
   "cell_type": "markdown",
   "metadata": {},
   "source": [
    "# 2. Sampling via Metropolis-Hastings\n",
    "## 2.1\n",
    "We want to generate a sample $\\{\\theta_i\\}$ of 10000 points from the distribution with density function $f$ such that\n",
    "\n",
    "$$f(x) \\propto x^{2}(1-x)^{5}$$\n",
    "\n",
    "for $0 \\leq x \\leq 1$ and $f(x) = 0$ otherwise.  As the generating distribution for $\\theta_i$, use $\\Gamma(4\\theta_{i-1}, \\frac{1}{4})$.  To initialize, set $\\theta_0 = 0.5$."
   ]
  },
  {
   "cell_type": "code",
   "execution_count": 15,
   "metadata": {},
   "outputs": [],
   "source": [
    "from scipy.stats import uniform\n",
    "from scipy.stats import gamma"
   ]
  },
  {
   "cell_type": "code",
   "execution_count": 16,
   "metadata": {},
   "outputs": [],
   "source": [
    "theta_0 = .5\n",
    "m = 10000\n",
    "samples = [theta_0]\n",
    "\n",
    "def f(x):\n",
    "    if x < 0 or x > 1:\n",
    "        return 0\n",
    "    else:\n",
    "        return (x**2)*((1-x)**5)\n",
    "\n",
    "while len(samples) <= m:\n",
    "    theta_star = gamma.rvs(size = 1, a = 4*samples[-1], scale = .25)\n",
    "    alpha = f(theta_star) * gamma.pdf(x = samples[-1], a = 4*theta_star, scale = .25)/ (f(samples[-1]) * gamma.pdf(x = theta_star, a= 4*samples[-1], scale = .25))\n",
    "    if alpha >= 1:\n",
    "        samples.append(theta_star[0])\n",
    "    elif uniform.rvs() < alpha:\n",
    "        samples.append(theta_star[0])\n",
    "\n",
    "samples = samples[1:]"
   ]
  },
  {
   "cell_type": "markdown",
   "metadata": {},
   "source": [
    "### 2.2\n",
    "Plot a density histogram of your sample.  Overlay the histogram with a plot of the true density of $f$ (this requires that you determine the normalizing constant needed to make $f$ a density)."
   ]
  },
  {
   "cell_type": "code",
   "execution_count": 17,
   "metadata": {},
   "outputs": [],
   "source": [
    "support2 = np.linspace(0,1, 100)\n",
    "f_array = np.array([f(x) for x in support2])\n",
    "c = np.trapz(f_array, support2)\n",
    "density_array = f_array / c"
   ]
  },
  {
   "cell_type": "code",
   "execution_count": 18,
   "metadata": {},
   "outputs": [
    {
     "data": {
      "text/plain": [
       "[<matplotlib.lines.Line2D at 0x7fe758706670>]"
      ]
     },
     "execution_count": 18,
     "metadata": {},
     "output_type": "execute_result"
    },
    {
     "data": {
      "image/png": "[encoded data removed]",
      "text/plain": [
       "<Figure size 432x288 with 1 Axes>"
      ]
     },
     "metadata": {
      "needs_background": "light"
     },
     "output_type": "display_data"
    }
   ],
   "source": [
    "plt.hist(samples, density=True, bins = 25);\n",
    "plt.plot(support2, density_array)"
   ]
  },
  {
   "cell_type": "code",
   "execution_count": null,
   "metadata": {},
   "outputs": [],
   "source": []
  }
 ],
 "metadata": {
  "kernelspec": {
   "display_name": "Python 3",
   "language": "python",
   "name": "python3"
  },
  "language_info": {
   "codemirror_mode": {
    "name": "ipython",
    "version": 3
   },
   "file_extension": ".py",
   "mimetype": "text/x-python",
   "name": "python",
   "nbconvert_exporter": "python",
   "pygments_lexer": "ipython3",
   "version": "3.8.8"
  }
 },
 "nbformat": 4,
 "nbformat_minor": 4
}
