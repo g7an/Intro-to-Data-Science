{
 "cells": [
  {
   "cell_type": "markdown",
   "id": "6dbcb1a3",
   "metadata": {},
   "source": [
    "# 1 Descriptive Statistics"
   ]
  },
  {
   "cell_type": "markdown",
   "id": "f9586d32",
   "metadata": {},
   "source": [
    "## 1.0\n",
    "\n",
    "We will load data on monthly stock returns from 1926 to 2021 and store it in a numpy array for you. Run the following cell."
   ]
  },
  {
   "cell_type": "code",
   "execution_count": 42,
   "id": "116d7bfe",
   "metadata": {
    "scrolled": true
   },
   "outputs": [
    {
     "name": "stdout",
     "output_type": "stream",
     "text": [
      "[2.96 2.64 0.36 ... 4.93 0.29 2.79]\n",
      "<class 'numpy.ndarray'>\n"
     ]
    }
   ],
   "source": [
    "# Module for arrays.\n",
    "import numpy as np\n",
    "# Module for dataframe manipulation.\n",
    "import pandas as pd\n",
    "# Function for downloading from URLs.\n",
    "from urllib import request \n",
    "# Function for constructing interface with ZIP files.\n",
    "from zipfile import ZipFile \n",
    "\n",
    " # URL of ZIP archive with data.\n",
    "link = 'https://mba.tuck.dartmouth.edu/pages/faculty/ken.french/ftp/F-F_Research_Data_Factors_CSV.zip'\n",
    "# Name of local file where ZIP will be stored.\n",
    "temp = 'F-F_Research_Data_Factors_CSV.zip' \n",
    "# Retrieve ZIP file from 'link' and store in local file named 'temp'.\n",
    "request.urlretrieve(link, temp) \n",
    "# Construct interface with ZIP file.\n",
    "archive = ZipFile(temp) \n",
    "# Load the CSV file in the ZIP archive.\n",
    "csv = archive.open('F-F_Research_Data_Factors.CSV') \n",
    "# Read specified number of rows from CSV with line 2 as header.\n",
    "# Note that knowing which lines to read requires you to have viewed the CSV by another means (e.g. Excel).\n",
    "df1 = pd.read_csv(csv, header=2, nrows=1140) \n",
    "\n",
    "# Store the stock return variable values in a Numpy array.\n",
    "stocks = df1['Mkt-RF'].values\n",
    "# Print a preview of the 'stocks' variable.\n",
    "print(stocks)\n",
    "# Print the type of the 'stocks' variable.\n",
    "print(type(stocks))"
   ]
  },
  {
   "cell_type": "markdown",
   "id": "8b0ee402",
   "metadata": {},
   "source": [
    "## 1.1\n",
    "\n",
    "SciPy and NumPy have functions for computing sample\n",
    "\n",
    "- mean\n",
    "- variance\n",
    "- standard deviation\n",
    "- skewness\n",
    "- kurtosis\n",
    "- quantiles\n",
    "\n",
    "As an exercise, implement your own functions for these descriptive statistics. The functions should be designed to operate on a one-dimensional $\\texttt{ndarray}$. You may use other Scipy and Numpy functions in your implementations.  Apply your functions to the $\\texttt{stocks}$ data to test them out."
   ]
  },
  {
   "cell_type": "code",
   "execution_count": 43,
   "id": "1b9481ad",
   "metadata": {},
   "outputs": [],
   "source": [
    "import math\n",
    "from scipy import stats\n",
    "import numpy as np"
   ]
  },
  {
   "cell_type": "code",
   "execution_count": 44,
   "id": "5a786041",
   "metadata": {
    "scrolled": true
   },
   "outputs": [
    {
     "name": "stdout",
     "output_type": "stream",
     "text": [
      "mean: 0.6900087719298247\n",
      "variance: 28.54757989456741\n",
      "standard deviation: 5.340649600733771\n",
      "skewness: 0.16487197600823694\n",
      "kurtosis: 7.641234428487045\n",
      "First quantile: -1.97\n",
      "Median: 1.06\n",
      "Third Quantile: 3.65\n"
     ]
    }
   ],
   "source": [
    "n = np.size(stocks)\n",
    "\n",
    "# mean\n",
    "def my_mean(arr):\n",
    "    return np.sum(arr)/get_size(arr)\n",
    "\n",
    "print(f\"mean: {my_mean(stocks)}\")\n",
    "\n",
    "# sample variance\n",
    "def my_variance(arr):\n",
    "    sqr = (arr - my_mean(arr))**2\n",
    "    return np.sum(sqr)/(n-1)\n",
    "\n",
    "print(f\"variance: {my_variance(stocks)}\")\n",
    "\n",
    "# sample std deviation\n",
    "def my_std_dev(arr):\n",
    "    sqr = (arr - my_mean(arr))**2\n",
    "    \n",
    "    return np.sqrt(np.sum(sqr)/n)\n",
    "\n",
    "print(f\"standard deviation: {my_std_dev(stocks)}\")\n",
    "\n",
    "# adjusted Fisher-Pearson coefficient of skewness\n",
    "def my_skew(arr):\n",
    "    dev = arr - my_mean(arr)\n",
    "    # Third central sample moment.\n",
    "    m3 = np.sum(dev**3) / n\n",
    "    # Second central sample moment.\n",
    "    m2 = np.sum(dev**2) / n\n",
    "    # Bias-adjustment cofactor.\n",
    "    adj = np.sqrt(n*(n-1)) / (n-2)\n",
    "    return adj * (m3 / m2**(3/2))\n",
    "\n",
    "print(f\"skewness: {my_skew(stocks)}\")\n",
    "\n",
    "# Adjusted Fisher coefficient of kurtosis.\n",
    "def my_kurtosis(arr):\n",
    "    dev = arr - my_mean(arr)\n",
    "    # Fourth central sample moment.\n",
    "    fourth_central_moment = np.sum(dev**4) / n\n",
    "    # Second central sample moment.\n",
    "    second_central_moment = np.sum(dev**2) / n\n",
    "    # Bias-adjustment cofactor.\n",
    "    adj = (n - 1) / ((n-2)*(n-3))\n",
    "    return adj * ((n+1)*(fourth_central_moment / (second_central_moment**2)) - (n-1)*3)\n",
    "\n",
    "print(f\"kurtosis: {my_kurtosis(stocks)}\")\n",
    "\n",
    "def my_quantile(arr, percentile):\n",
    "    sorted_stocks = np.sort(arr)\n",
    "    if percentile == 1:\n",
    "        return sorted_stocks[-1]\n",
    "    return sorted_stocks[int(n*percentile)]\n",
    "    return 0\n",
    "\n",
    "\n",
    "print(f\"First quantile: {my_quantile(stocks, 0.25)}\")\n",
    "print(f\"Median: {my_quantile(stocks, 0.5)}\")\n",
    "print(f\"Third Quantile: {my_quantile(stocks, 0.75)}\")\n"
   ]
  },
  {
   "cell_type": "markdown",
   "id": "c92c1737",
   "metadata": {},
   "source": [
    "## 1.2\n",
    "\n",
    "Apply the corresponding SciPy or NumPy functions. Do your functions give different results? If so, are your implementations incorrect, or can you adjust some parameters of the SciPy or NumPy functions to give the same results?"
   ]
  },
  {
   "cell_type": "code",
   "execution_count": 45,
   "id": "7be19a0a",
   "metadata": {},
   "outputs": [],
   "source": [
    "import scipy\n",
    "from scipy.stats import skew, kurtosis"
   ]
  },
  {
   "cell_type": "code",
   "execution_count": 46,
   "id": "2e7eedcf",
   "metadata": {},
   "outputs": [
    {
     "name": "stdout",
     "output_type": "stream",
     "text": [
      "***SciPy and NumPy Functions, Default Parameters***\n",
      "Mean, 0.6900087719298247\n",
      "Variance, 28.522538157817788\n",
      "Standard Deviation, 5.340649600733771\n",
      "Skewness, 0.16465495985920892\n",
      "Kurtosis, 7.602502829277308\n",
      "First Quantile, -1.97\n",
      "Median, 1.06\n",
      "Third Quantile, 3.65\n"
     ]
    }
   ],
   "source": [
    "label = ['Mean', 'Variance', 'Standard Deviation', 'Skewness', 'Kurtosis', 'First Quantile', 'Median', \\\n",
    "         'Third Quantile']\n",
    "value = [np.mean(stocks), np.var(stocks), np.std(stocks), skew(stocks), kurtosis(stocks), np.quantile(stocks, 0.25), \\\n",
    "         np.quantile(stocks, 0.5), np.quantile(stocks, 0.75)]\n",
    "\n",
    "print('***SciPy and NumPy Functions, Default Parameters***')\n",
    "for i in range(len(label)):\n",
    "    print(f\"{label[i]}, {value[i]}\")\n"
   ]
  },
  {
   "cell_type": "markdown",
   "id": "3da9eeb9",
   "metadata": {},
   "source": [
    "## 1.3\n",
    "\n",
    "The normal distribution is commonly used to model natural and social phenomena. Investigate whether the hypothesis that the historical stock return is normally distributed is plausible as follows:\n",
    "\n",
    "- Simulate draws from a normal distribution with the same mean and standard deviation as the stock returns. For the number of draws, use the number of stock return observations. Use a seed of 0.\n",
    "- Compare descriptive statistics from the simulated data to the descriptive statistics of the stock returns.\n",
    "- Comment on similarities and differences. Give a judgment as to whether the hypothesis that the historical stock return is normally distributed is plausible."
   ]
  },
  {
   "cell_type": "code",
   "execution_count": 47,
   "id": "4e6e9087",
   "metadata": {
    "scrolled": false
   },
   "outputs": [
    {
     "name": "stdout",
     "output_type": "stream",
     "text": [
      "***SciPy and NumPy Functions, Default Parameters***\n",
      "Mean, 0.5197701866992168\n",
      "Variance, 27.38212123621996\n",
      "Standard Deviation, 5.23279287151899\n",
      "Skewness, 0.05367265351779008\n",
      "Kurtosis, -0.006189000762069519\n",
      "First Quantile, -3.0217830666186645\n",
      "Median, 0.4580841786095332\n",
      "Third Quantile, 3.9388769539917403\n"
     ]
    }
   ],
   "source": [
    "import numpy as np\n",
    "from scipy.stats import skew, kurtosis\n",
    "from scipy.stats import norm as gaussian\n",
    "\n",
    "n = np.size(stocks)\n",
    "# Simulate normal random variables using numpy\n",
    "sim = gaussian.rvs(loc=np.mean(stocks), scale=np.std(stocks), size=n, random_state=0)\n",
    "\n",
    "label = ['Mean', 'Variance', 'Standard Deviation', 'Skewness', 'Kurtosis', 'First Quantile', 'Median', \\\n",
    "         'Third Quantile']\n",
    "value = [np.mean(sim), np.var(sim), np.std(sim), skew(sim), kurtosis(sim), np.quantile(sim, 0.25), \\\n",
    "         np.quantile(sim, 0.5), np.quantile(sim, 0.75)]\n",
    "print('***SciPy and NumPy Functions, Default Parameters***')\n",
    "for i in range(len(label)):\n",
    "    print(f\"{label[i]}, {value[i]}\")\n",
    "    "
   ]
  },
  {
   "cell_type": "markdown",
   "id": "ff94a395",
   "metadata": {},
   "source": [
    "## Intepretation:\n",
    "Mean and standard deviation are similar. \\\n",
    "Kurtosis and quantiles are notably different. \\\n",
    "Excess kurtosis (leptokurtosis) is a commonly observed feature of asset returns. \\\n",
    "The hypothesis that the historical stock return is normally distributed is implausible based on differing kurtosis."
   ]
  },
  {
   "cell_type": "markdown",
   "id": "cf23de18",
   "metadata": {},
   "source": [
    "# 2 Visualizing Probability Distributions\n",
    "A $\\text{binomial}(n, p)$ distribution converges to a normal $\\mathcal{N}\\left(np, np(1-p)\\right)$ distribution as $n$ increases. Write a procedure that demonstrates the convergence. The procedure should do the following:\n",
    "\n",
    "- Take $n$ and $p$ as input.\n",
    "- Plot the PMF of a $\\text{binom}(n,p)$ random variable.\n",
    "- Plot, over the PMF, the PDF of a normal random variable with mean $np$ and standard deviation $\\sqrt{np(1-p)}$.\n",
    "\n",
    "When you get procedure working, run it with small and then increasing values of $n$ for fixed $p$. Note how in the output plot the binomial PMF gets closer to the normal PDF as you increase $n$."
   ]
  },
  {
   "cell_type": "code",
   "execution_count": 51,
   "id": "c53e1d94",
   "metadata": {},
   "outputs": [],
   "source": [
    "import matplotlib.pyplot as plt\n",
    "import numpy as np\n",
    "from scipy.stats import binom\n",
    "from scipy.stats import norm as gaussian"
   ]
  },
  {
   "cell_type": "code",
   "execution_count": 56,
   "id": "4729a236",
   "metadata": {
    "scrolled": true
   },
   "outputs": [
    {
     "data": {
      "text/plain": [
       "[<matplotlib.lines.Line2D at 0x7fb8bd297880>]"
      ]
     },
     "execution_count": 56,
     "metadata": {},
     "output_type": "execute_result"
    },
    {
     "data": {
      "image/png": "[encoded data removed]",
      "text/plain": [
       "<Figure size 432x288 with 1 Axes>"
      ]
     },
     "metadata": {
      "needs_background": "light"
     },
     "output_type": "display_data"
    }
   ],
   "source": [
    "n, p = 1000, .1\n",
    "\n",
    "# Support of the binomial random variable.\n",
    "k = np.arange(n)\n",
    "# Plot binomial PMF with red dots.\n",
    "plt.plot(k, binom.pmf(k, n, p), 'ro')\n",
    "# Create a finer domain for plotting a smoother Gaussian PDF.\n",
    "x = np.linspace(0, n, 100)\n",
    "# Plot smooth curve of Gaussian PDF.\n",
    "plt.plot(x, gaussian.pdf(x, n*p, np.sqrt(n*p*(1-p))))"
   ]
  }
 ],
 "metadata": {
  "kernelspec": {
   "display_name": "Python 3",
   "language": "python",
   "name": "python3"
  },
  "language_info": {
   "codemirror_mode": {
    "name": "ipython",
    "version": 3
   },
   "file_extension": ".py",
   "mimetype": "text/x-python",
   "name": "python",
   "nbconvert_exporter": "python",
   "pygments_lexer": "ipython3",
   "version": "3.8.8"
  }
 },
 "nbformat": 4,
 "nbformat_minor": 5
}
