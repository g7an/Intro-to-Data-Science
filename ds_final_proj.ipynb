{
 "cells": [
  {
   "cell_type": "markdown",
   "id": "1eea0848-b13b-4903-85ca-7476c7771991",
   "metadata": {},
   "source": [
    "# SVM"
   ]
  },
  {
   "cell_type": "code",
   "execution_count": 1,
   "id": "4f9b01c3",
   "metadata": {},
   "outputs": [
    {
     "data": {
      "text/html": [
       "<div>\n",
       "<style scoped>\n",
       "    .dataframe tbody tr th:only-of-type {\n",
       "        vertical-align: middle;\n",
       "    }\n",
       "\n",
       "    .dataframe tbody tr th {\n",
       "        vertical-align: top;\n",
       "    }\n",
       "\n",
       "    .dataframe thead th {\n",
       "        text-align: right;\n",
       "    }\n",
       "</style>\n",
       "<table border=\"1\" class=\"dataframe\">\n",
       "  <thead>\n",
       "    <tr style=\"text-align: right;\">\n",
       "      <th></th>\n",
       "      <th>age</th>\n",
       "      <th>anaemia</th>\n",
       "      <th>creatinine_phosphokinase</th>\n",
       "      <th>diabetes</th>\n",
       "      <th>ejection_fraction</th>\n",
       "      <th>high_blood_pressure</th>\n",
       "      <th>platelets</th>\n",
       "      <th>serum_creatinine</th>\n",
       "      <th>serum_sodium</th>\n",
       "      <th>sex</th>\n",
       "      <th>smoking</th>\n",
       "      <th>time</th>\n",
       "      <th>DEATH_EVENT</th>\n",
       "    </tr>\n",
       "  </thead>\n",
       "  <tbody>\n",
       "    <tr>\n",
       "      <th>0</th>\n",
       "      <td>75.0</td>\n",
       "      <td>0</td>\n",
       "      <td>582</td>\n",
       "      <td>0</td>\n",
       "      <td>20</td>\n",
       "      <td>1</td>\n",
       "      <td>265000.00</td>\n",
       "      <td>1.9</td>\n",
       "      <td>130</td>\n",
       "      <td>1</td>\n",
       "      <td>0</td>\n",
       "      <td>4</td>\n",
       "      <td>1</td>\n",
       "    </tr>\n",
       "    <tr>\n",
       "      <th>1</th>\n",
       "      <td>55.0</td>\n",
       "      <td>0</td>\n",
       "      <td>7861</td>\n",
       "      <td>0</td>\n",
       "      <td>38</td>\n",
       "      <td>0</td>\n",
       "      <td>263358.03</td>\n",
       "      <td>1.1</td>\n",
       "      <td>136</td>\n",
       "      <td>1</td>\n",
       "      <td>0</td>\n",
       "      <td>6</td>\n",
       "      <td>1</td>\n",
       "    </tr>\n",
       "    <tr>\n",
       "      <th>2</th>\n",
       "      <td>65.0</td>\n",
       "      <td>0</td>\n",
       "      <td>146</td>\n",
       "      <td>0</td>\n",
       "      <td>20</td>\n",
       "      <td>0</td>\n",
       "      <td>162000.00</td>\n",
       "      <td>1.3</td>\n",
       "      <td>129</td>\n",
       "      <td>1</td>\n",
       "      <td>1</td>\n",
       "      <td>7</td>\n",
       "      <td>1</td>\n",
       "    </tr>\n",
       "    <tr>\n",
       "      <th>3</th>\n",
       "      <td>50.0</td>\n",
       "      <td>1</td>\n",
       "      <td>111</td>\n",
       "      <td>0</td>\n",
       "      <td>20</td>\n",
       "      <td>0</td>\n",
       "      <td>210000.00</td>\n",
       "      <td>1.9</td>\n",
       "      <td>137</td>\n",
       "      <td>1</td>\n",
       "      <td>0</td>\n",
       "      <td>7</td>\n",
       "      <td>1</td>\n",
       "    </tr>\n",
       "    <tr>\n",
       "      <th>4</th>\n",
       "      <td>65.0</td>\n",
       "      <td>1</td>\n",
       "      <td>160</td>\n",
       "      <td>1</td>\n",
       "      <td>20</td>\n",
       "      <td>0</td>\n",
       "      <td>327000.00</td>\n",
       "      <td>2.7</td>\n",
       "      <td>116</td>\n",
       "      <td>0</td>\n",
       "      <td>0</td>\n",
       "      <td>8</td>\n",
       "      <td>1</td>\n",
       "    </tr>\n",
       "  </tbody>\n",
       "</table>\n",
       "</div>"
      ],
      "text/plain": [
       "    age  anaemia  creatinine_phosphokinase  diabetes  ejection_fraction  \\\n",
       "0  75.0        0                       582         0                 20   \n",
       "1  55.0        0                      7861         0                 38   \n",
       "2  65.0        0                       146         0                 20   \n",
       "3  50.0        1                       111         0                 20   \n",
       "4  65.0        1                       160         1                 20   \n",
       "\n",
       "   high_blood_pressure  platelets  serum_creatinine  serum_sodium  sex  \\\n",
       "0                    1  265000.00               1.9           130    1   \n",
       "1                    0  263358.03               1.1           136    1   \n",
       "2                    0  162000.00               1.3           129    1   \n",
       "3                    0  210000.00               1.9           137    1   \n",
       "4                    0  327000.00               2.7           116    0   \n",
       "\n",
       "   smoking  time  DEATH_EVENT  \n",
       "0        0     4            1  \n",
       "1        0     6            1  \n",
       "2        1     7            1  \n",
       "3        0     7            1  \n",
       "4        0     8            1  "
      ]
     },
     "execution_count": 1,
     "metadata": {},
     "output_type": "execute_result"
    }
   ],
   "source": [
    "import numpy as np\n",
    "import pandas as pd #使用pandas读文件\n",
    "import matplotlib.pyplot as plt#绘制图形\n",
    "from sklearn import svm\n",
    "from sklearn import metrics\n",
    "from sklearn.model_selection import cross_val_score#交叉验证\n",
    "from sklearn.model_selection import GridSearchCV #网格搜索\n",
    "from sklearn.metrics import accuracy_score\n",
    "from sklearn.model_selection import train_test_split\n",
    "from sklearn.model_selection import ShuffleSplit\n",
    "from sklearn.preprocessing import MinMaxScaler #最大最小值放缩\n",
    "from sklearn.metrics import accuracy_score\n",
    "\n",
    "dataset = pd.read_csv('heart_failure_clinical_records_dataset.csv')\n",
    "dataset.head()"
   ]
  },
  {
   "cell_type": "code",
   "execution_count": 2,
   "id": "0105ab14",
   "metadata": {},
   "outputs": [
    {
     "name": "stdout",
     "output_type": "stream",
     "text": [
      "(240, 12) (240,) (59, 12) (59,)\n"
     ]
    }
   ],
   "source": [
    "# 用split好的数据集进行处理\n",
    "TrainingSet2=pd.read_csv(\"train_hf_data.csv\")\n",
    "TestSet1=pd.read_csv(\"test_hf_data.csv\")\n",
    "TrainingSet2=TrainingSet2.drop(['Unnamed: 0'], axis=1)\n",
    "TestSet1=TestSet1.drop(['Unnamed: 0'], axis=1)\n",
    "\n",
    "#标签集\n",
    "lf1=pd.read_csv(\"train_hf_label.csv\")\n",
    "lf2=pd.read_csv(\"test_hf_label.csv\")\n",
    "lf1=lf1.drop(['Unnamed: 0'], axis=1)\n",
    "lf2=lf2.drop(['Unnamed: 0'], axis=1)\n",
    "\n",
    "# 将所有数据转为数组形式并归一化\n",
    "X_arr=np.array(TrainingSet2)\n",
    "Xt_arr=np.array(TestSet1)\n",
    "Y=np.array(lf1).ravel()\n",
    "Yt=np.array(lf2).ravel()\n",
    "\n",
    "#归一化\n",
    "scaler = MinMaxScaler()\n",
    "scaler.fit(X_arr)\n",
    "X = scaler.transform(X_arr)\n",
    "Xt = scaler.transform(Xt_arr)\n",
    "\n",
    "print(X.shape, Y.shape, Xt.shape, Yt.shape)"
   ]
  },
  {
   "cell_type": "code",
   "execution_count": 18,
   "id": "ea6cb274",
   "metadata": {},
   "outputs": [
    {
     "data": {
      "text/plain": [
       "GridSearchCV(estimator=SVC(),\n",
       "             param_grid={'C': [1, 2, 3, 4, 5, 6, 7, 8, 9, 10, 11, 12, 13, 14,\n",
       "                               15, 16, 17, 18, 19, 20, 21, 22, 23, 24, 25, 26,\n",
       "                               27, 28, 29, 30, ...],\n",
       "                         'kernel': ('linear', 'rbf', 'poly', 'sigmoid')})"
      ]
     },
     "execution_count": 18,
     "metadata": {},
     "output_type": "execute_result"
    }
   ],
   "source": [
    "#GridSearchCV 用于系统地遍历多种参数组合，通过交叉验证确定最佳效果参数。\n",
    "#它的好处是:只需增加几行代码，就能遍历多种组合，并返回效果最好的参数\n",
    "#SVC的参数可以选择linear还是rbf等，然后C值也可以从1~10\n",
    "\n",
    "# small regularization params\n",
    "svr = svm.SVC()\n",
    "parameters1 = {'kernel':('linear', 'rbf', 'poly', 'sigmoid'), 'C': np.arange(1, 100).tolist()}\n",
    "clf1 = GridSearchCV(svr, parameters1)\n",
    "clf1.fit(X, Y)\n"
   ]
  },
  {
   "cell_type": "code",
   "execution_count": 19,
   "id": "812745e3",
   "metadata": {},
   "outputs": [
    {
     "name": "stdout",
     "output_type": "stream",
     "text": [
      "best params: {'C': 22, 'kernel': 'linear'}, best score: 0.8208333333333334\n"
     ]
    }
   ],
   "source": [
    "print(f\"best params: {clf1.best_params_}, best score: {clf1.best_score_}\")"
   ]
  },
  {
   "cell_type": "code",
   "execution_count": 5,
   "id": "43214a39-6a32-4a21-9bc5-7555314352d0",
   "metadata": {},
   "outputs": [
    {
     "name": "stdout",
     "output_type": "stream",
     "text": [
      "best params: {'C': 1000000.0, 'kernel': 'linear'}, best score: 0.825\n"
     ]
    }
   ],
   "source": [
    "# large regularization params\n",
    "parameters = {'kernel':('linear', 'rbf', 'poly', 'sigmoid'), 'C': [1e6, 2e6, 3e6, 4e6, 5e6]}\n",
    "clf = GridSearchCV(svr, parameters)\n",
    "clf.fit(X, Y)\n",
    "print(f\"best params: {clf.best_params_}, best score: {clf.best_score_}\")"
   ]
  },
  {
   "cell_type": "code",
   "execution_count": 6,
   "id": "a6eaba43",
   "metadata": {},
   "outputs": [
    {
     "data": {
      "text/plain": [
       "{'C': 1000000.0, 'kernel': 'linear'}"
      ]
     },
     "execution_count": 6,
     "metadata": {},
     "output_type": "execute_result"
    }
   ],
   "source": [
    "clf.best_params_"
   ]
  },
  {
   "cell_type": "code",
   "execution_count": 7,
   "id": "0c168853",
   "metadata": {},
   "outputs": [
    {
     "data": {
      "text/plain": [
       "0.825"
      ]
     },
     "execution_count": 7,
     "metadata": {},
     "output_type": "execute_result"
    }
   ],
   "source": [
    "clf.best_score_"
   ]
  },
  {
   "cell_type": "code",
   "execution_count": 22,
   "id": "30113ccb",
   "metadata": {},
   "outputs": [
    {
     "data": {
      "text/plain": [
       "array([1, 0, 0, 1, 0, 0, 0, 0, 0, 0, 0, 0, 1, 0, 0, 0, 0, 1, 0, 1, 0, 1,\n",
       "       0, 0, 0, 0, 0, 1, 1, 0, 0, 0, 0, 0, 1, 0, 0, 0, 1, 0, 1, 1, 0, 0,\n",
       "       0, 0, 0, 0, 0, 0, 1, 1, 0, 1, 0, 0, 0, 0, 0])"
      ]
     },
     "execution_count": 22,
     "metadata": {},
     "output_type": "execute_result"
    }
   ],
   "source": [
    "# use the parameter with best accuracy to train the model\n",
    "\n",
    "model = svm.SVC(kernel='linear', C=1e6)\n",
    "model.fit(X, Y)\n",
    "y_pred = model.predict(Xt)\n",
    "y_pred"
   ]
  },
  {
   "cell_type": "code",
   "execution_count": 23,
   "id": "82a64da3",
   "metadata": {},
   "outputs": [
    {
     "data": {
      "text/plain": [
       "0.864406779661017"
      ]
     },
     "execution_count": 23,
     "metadata": {},
     "output_type": "execute_result"
    }
   ],
   "source": [
    "acc = accuracy_score(y_pred, Yt)\n",
    "acc"
   ]
  },
  {
   "cell_type": "code",
   "execution_count": 39,
   "id": "7064cf9e",
   "metadata": {},
   "outputs": [
    {
     "data": {
      "image/png": "[encoded data removed]",
      "text/plain": [
       "<Figure size 432x288 with 2 Axes>"
      ]
     },
     "metadata": {},
     "output_type": "display_data"
    }
   ],
   "source": [
    "from sklearn.metrics import confusion_matrix\n",
    "# use seaborn plotting defaults\n",
    "import seaborn as sns; sns.set()\n",
    "\n",
    "cm = confusion_matrix(Yt, y_pred)\n",
    "ax= plt.subplot()\n",
    "sns.heatmap(cm, annot=True, fmt='g', ax=ax);\n",
    "# labels, title and ticks\n",
    "ax.set_xlabel('Predicted labels');ax.set_ylabel('True labels'); \n",
    "ax.set_title('Confusion Matrix'); \n",
    "ax.xaxis.set_ticklabels(['Alive', 'Deceased']); ax.yaxis.set_ticklabels(['Alive', 'Deceased']);"
   ]
  },
  {
   "cell_type": "markdown",
   "id": "4eab0c60",
   "metadata": {},
   "source": [
    "# Feature selection: PCA"
   ]
  },
  {
   "cell_type": "code",
   "execution_count": 47,
   "id": "39b5b480",
   "metadata": {},
   "outputs": [
    {
     "name": "stdout",
     "output_type": "stream",
     "text": [
      "Explained variance: \n",
      " [0.35605365 0.27958327 0.24185869 0.21102265 0.1190046  0.0726244\n",
      " 0.05340112 0.04359697 0.02181504 0.01920063 0.0090228  0.00351759]\n"
     ]
    }
   ],
   "source": [
    "from sklearn.decomposition import PCA\n",
    "\n",
    "pca = PCA(n_components=12)\n",
    "data_scaled = pd.DataFrame(Xt,columns = TrainingSet2.columns) \n",
    "\n",
    "pca.fit_transform(Xt)\n",
    "eigenvalues = pca.explained_variance_\n",
    "print(\"Explained variance: \\n\", eigenvalues)"
   ]
  },
  {
   "cell_type": "code",
   "execution_count": 51,
   "id": "c195fc19",
   "metadata": {
    "scrolled": true
   },
   "outputs": [
    {
     "data": {
      "text/html": [
       "<div>\n",
       "<style scoped>\n",
       "    .dataframe tbody tr th:only-of-type {\n",
       "        vertical-align: middle;\n",
       "    }\n",
       "\n",
       "    .dataframe tbody tr th {\n",
       "        vertical-align: top;\n",
       "    }\n",
       "\n",
       "    .dataframe thead th {\n",
       "        text-align: right;\n",
       "    }\n",
       "</style>\n",
       "<table border=\"1\" class=\"dataframe\">\n",
       "  <thead>\n",
       "    <tr style=\"text-align: right;\">\n",
       "      <th></th>\n",
       "      <th>age</th>\n",
       "      <th>anaemia</th>\n",
       "      <th>creatinine_phosphokinase</th>\n",
       "      <th>diabetes</th>\n",
       "      <th>ejection_fraction</th>\n",
       "      <th>high_blood_pressure</th>\n",
       "      <th>platelets</th>\n",
       "      <th>serum_creatinine</th>\n",
       "      <th>serum_sodium</th>\n",
       "      <th>sex</th>\n",
       "      <th>smoking</th>\n",
       "      <th>time</th>\n",
       "    </tr>\n",
       "  </thead>\n",
       "  <tbody>\n",
       "    <tr>\n",
       "      <th>0</th>\n",
       "      <td>-0.054984</td>\n",
       "      <td>0.525775</td>\n",
       "      <td>-0.002008</td>\n",
       "      <td>-0.006026</td>\n",
       "      <td>0.108806</td>\n",
       "      <td>0.082230</td>\n",
       "      <td>-0.019471</td>\n",
       "      <td>0.053508</td>\n",
       "      <td>-0.014652</td>\n",
       "      <td>-0.520818</td>\n",
       "      <td>-0.652531</td>\n",
       "      <td>-0.037300</td>\n",
       "    </tr>\n",
       "    <tr>\n",
       "      <th>1</th>\n",
       "      <td>0.024862</td>\n",
       "      <td>0.321673</td>\n",
       "      <td>-0.004673</td>\n",
       "      <td>0.721724</td>\n",
       "      <td>-0.122347</td>\n",
       "      <td>0.521257</td>\n",
       "      <td>0.019223</td>\n",
       "      <td>-0.027999</td>\n",
       "      <td>0.000654</td>\n",
       "      <td>0.003454</td>\n",
       "      <td>0.292411</td>\n",
       "      <td>-0.040662</td>\n",
       "    </tr>\n",
       "    <tr>\n",
       "      <th>2</th>\n",
       "      <td>0.038871</td>\n",
       "      <td>-0.276869</td>\n",
       "      <td>-0.022084</td>\n",
       "      <td>-0.479409</td>\n",
       "      <td>-0.057796</td>\n",
       "      <td>0.744668</td>\n",
       "      <td>0.031562</td>\n",
       "      <td>-0.006529</td>\n",
       "      <td>-0.052436</td>\n",
       "      <td>-0.335018</td>\n",
       "      <td>0.130739</td>\n",
       "      <td>-0.022863</td>\n",
       "    </tr>\n",
       "    <tr>\n",
       "      <th>3</th>\n",
       "      <td>-0.020990</td>\n",
       "      <td>-0.705152</td>\n",
       "      <td>0.010734</td>\n",
       "      <td>0.490830</td>\n",
       "      <td>0.235901</td>\n",
       "      <td>-0.048485</td>\n",
       "      <td>0.089965</td>\n",
       "      <td>-0.030953</td>\n",
       "      <td>-0.034975</td>\n",
       "      <td>-0.355113</td>\n",
       "      <td>-0.257149</td>\n",
       "      <td>-0.028007</td>\n",
       "    </tr>\n",
       "    <tr>\n",
       "      <th>4</th>\n",
       "      <td>0.096814</td>\n",
       "      <td>-0.140067</td>\n",
       "      <td>0.011922</td>\n",
       "      <td>0.021264</td>\n",
       "      <td>-0.136481</td>\n",
       "      <td>0.309695</td>\n",
       "      <td>0.002650</td>\n",
       "      <td>0.025075</td>\n",
       "      <td>-0.050560</td>\n",
       "      <td>0.617513</td>\n",
       "      <td>-0.573130</td>\n",
       "      <td>-0.378000</td>\n",
       "    </tr>\n",
       "    <tr>\n",
       "      <th>5</th>\n",
       "      <td>0.247395</td>\n",
       "      <td>0.099037</td>\n",
       "      <td>-0.038882</td>\n",
       "      <td>-0.054955</td>\n",
       "      <td>0.432210</td>\n",
       "      <td>-0.101878</td>\n",
       "      <td>0.004271</td>\n",
       "      <td>0.047811</td>\n",
       "      <td>0.001262</td>\n",
       "      <td>-0.116848</td>\n",
       "      <td>0.261668</td>\n",
       "      <td>-0.801774</td>\n",
       "    </tr>\n",
       "    <tr>\n",
       "      <th>6</th>\n",
       "      <td>-0.110815</td>\n",
       "      <td>0.032935</td>\n",
       "      <td>-0.008515</td>\n",
       "      <td>-0.003203</td>\n",
       "      <td>0.742346</td>\n",
       "      <td>0.217549</td>\n",
       "      <td>-0.385086</td>\n",
       "      <td>0.266554</td>\n",
       "      <td>-0.023742</td>\n",
       "      <td>0.259471</td>\n",
       "      <td>-0.004245</td>\n",
       "      <td>0.317645</td>\n",
       "    </tr>\n",
       "    <tr>\n",
       "      <th>7</th>\n",
       "      <td>-0.859211</td>\n",
       "      <td>0.037588</td>\n",
       "      <td>0.033147</td>\n",
       "      <td>-0.046752</td>\n",
       "      <td>0.153821</td>\n",
       "      <td>0.055029</td>\n",
       "      <td>0.413239</td>\n",
       "      <td>-0.101879</td>\n",
       "      <td>0.066154</td>\n",
       "      <td>0.092424</td>\n",
       "      <td>0.050168</td>\n",
       "      <td>-0.183817</td>\n",
       "    </tr>\n",
       "    <tr>\n",
       "      <th>8</th>\n",
       "      <td>0.125637</td>\n",
       "      <td>0.008435</td>\n",
       "      <td>-0.006988</td>\n",
       "      <td>0.010459</td>\n",
       "      <td>-0.039953</td>\n",
       "      <td>-0.019145</td>\n",
       "      <td>0.529171</td>\n",
       "      <td>0.827306</td>\n",
       "      <td>-0.101896</td>\n",
       "      <td>0.012264</td>\n",
       "      <td>0.027073</td>\n",
       "      <td>0.079366</td>\n",
       "    </tr>\n",
       "    <tr>\n",
       "      <th>9</th>\n",
       "      <td>0.385566</td>\n",
       "      <td>0.107313</td>\n",
       "      <td>-0.110948</td>\n",
       "      <td>-0.046976</td>\n",
       "      <td>0.359045</td>\n",
       "      <td>0.069165</td>\n",
       "      <td>0.622531</td>\n",
       "      <td>-0.456469</td>\n",
       "      <td>0.065096</td>\n",
       "      <td>0.138552</td>\n",
       "      <td>-0.059698</td>\n",
       "      <td>0.262111</td>\n",
       "    </tr>\n",
       "    <tr>\n",
       "      <th>10</th>\n",
       "      <td>-0.042283</td>\n",
       "      <td>0.048598</td>\n",
       "      <td>0.059842</td>\n",
       "      <td>-0.000950</td>\n",
       "      <td>0.024355</td>\n",
       "      <td>-0.048378</td>\n",
       "      <td>0.022279</td>\n",
       "      <td>-0.131577</td>\n",
       "      <td>-0.984714</td>\n",
       "      <td>0.014012</td>\n",
       "      <td>0.039358</td>\n",
       "      <td>0.010921</td>\n",
       "    </tr>\n",
       "    <tr>\n",
       "      <th>11</th>\n",
       "      <td>0.084096</td>\n",
       "      <td>0.017799</td>\n",
       "      <td>0.990256</td>\n",
       "      <td>-0.018626</td>\n",
       "      <td>0.054119</td>\n",
       "      <td>0.022597</td>\n",
       "      <td>0.054908</td>\n",
       "      <td>-0.029909</td>\n",
       "      <td>0.063504</td>\n",
       "      <td>-0.002783</td>\n",
       "      <td>0.012343</td>\n",
       "      <td>0.010747</td>\n",
       "    </tr>\n",
       "  </tbody>\n",
       "</table>\n",
       "</div>"
      ],
      "text/plain": [
       "         age   anaemia  creatinine_phosphokinase  diabetes  ejection_fraction  \\\n",
       "0  -0.054984  0.525775                 -0.002008 -0.006026           0.108806   \n",
       "1   0.024862  0.321673                 -0.004673  0.721724          -0.122347   \n",
       "2   0.038871 -0.276869                 -0.022084 -0.479409          -0.057796   \n",
       "3  -0.020990 -0.705152                  0.010734  0.490830           0.235901   \n",
       "4   0.096814 -0.140067                  0.011922  0.021264          -0.136481   \n",
       "5   0.247395  0.099037                 -0.038882 -0.054955           0.432210   \n",
       "6  -0.110815  0.032935                 -0.008515 -0.003203           0.742346   \n",
       "7  -0.859211  0.037588                  0.033147 -0.046752           0.153821   \n",
       "8   0.125637  0.008435                 -0.006988  0.010459          -0.039953   \n",
       "9   0.385566  0.107313                 -0.110948 -0.046976           0.359045   \n",
       "10 -0.042283  0.048598                  0.059842 -0.000950           0.024355   \n",
       "11  0.084096  0.017799                  0.990256 -0.018626           0.054119   \n",
       "\n",
       "    high_blood_pressure  platelets  serum_creatinine  serum_sodium       sex  \\\n",
       "0              0.082230  -0.019471          0.053508     -0.014652 -0.520818   \n",
       "1              0.521257   0.019223         -0.027999      0.000654  0.003454   \n",
       "2              0.744668   0.031562         -0.006529     -0.052436 -0.335018   \n",
       "3             -0.048485   0.089965         -0.030953     -0.034975 -0.355113   \n",
       "4              0.309695   0.002650          0.025075     -0.050560  0.617513   \n",
       "5             -0.101878   0.004271          0.047811      0.001262 -0.116848   \n",
       "6              0.217549  -0.385086          0.266554     -0.023742  0.259471   \n",
       "7              0.055029   0.413239         -0.101879      0.066154  0.092424   \n",
       "8             -0.019145   0.529171          0.827306     -0.101896  0.012264   \n",
       "9              0.069165   0.622531         -0.456469      0.065096  0.138552   \n",
       "10            -0.048378   0.022279         -0.131577     -0.984714  0.014012   \n",
       "11             0.022597   0.054908         -0.029909      0.063504 -0.002783   \n",
       "\n",
       "     smoking      time  \n",
       "0  -0.652531 -0.037300  \n",
       "1   0.292411 -0.040662  \n",
       "2   0.130739 -0.022863  \n",
       "3  -0.257149 -0.028007  \n",
       "4  -0.573130 -0.378000  \n",
       "5   0.261668 -0.801774  \n",
       "6  -0.004245  0.317645  \n",
       "7   0.050168 -0.183817  \n",
       "8   0.027073  0.079366  \n",
       "9  -0.059698  0.262111  \n",
       "10  0.039358  0.010921  \n",
       "11  0.012343  0.010747  "
      ]
     },
     "metadata": {},
     "output_type": "display_data"
    }
   ],
   "source": [
    "display(pd.DataFrame(pca.components_,columns=data_scaled.columns))"
   ]
  },
  {
   "cell_type": "code",
   "execution_count": 48,
   "id": "8b529737",
   "metadata": {},
   "outputs": [
    {
     "name": "stdout",
     "output_type": "stream",
     "text": [
      "Populating the interactive namespace from numpy and matplotlib\n"
     ]
    },
    {
     "data": {
      "image/png": "[encoded data removed]",
      "text/plain": [
       "<Figure size 432x288 with 2 Axes>"
      ]
     },
     "metadata": {
      "needs_background": "light"
     },
     "output_type": "display_data"
    }
   ],
   "source": [
    "%pylab inline\n",
    "#  Scree plot \n",
    "fig, (ax1, ax2) = plt.subplots(2, 1)\n",
    "fig.align_ylabels()\n",
    "fig.suptitle('Scree Plot For PCA')\n",
    "ax1.xaxis.set_major_locator(MaxNLocator(integer = True))\n",
    "ax2.xaxis.set_major_locator(MaxNLocator(integer = True))\n",
    "# explained variance \n",
    "ax1.plot(eigenvalues,'o-')\n",
    "ax1.set_ylabel('Eigenvalues')\n",
    "ax1.grid()\n",
    "cumulative_sum = np.cumsum(eigenvalues)\n",
    "# cumulative Variance Ratio\n",
    "ax2.plot(cumulative_sum/cumulative_sum[-1],'o-r')\n",
    "ax2.set_xlabel('Principal Components')\n",
    "ax2.set_ylabel('Cumulative Variance Ratio');\n",
    "\n",
    "ax2.grid()"
   ]
  },
  {
   "cell_type": "code",
   "execution_count": 55,
   "id": "c4904e44",
   "metadata": {},
   "outputs": [
    {
     "data": {
      "text/html": [
       "<div>\n",
       "<style scoped>\n",
       "    .dataframe tbody tr th:only-of-type {\n",
       "        vertical-align: middle;\n",
       "    }\n",
       "\n",
       "    .dataframe tbody tr th {\n",
       "        vertical-align: top;\n",
       "    }\n",
       "\n",
       "    .dataframe thead th {\n",
       "        text-align: right;\n",
       "    }\n",
       "</style>\n",
       "<table border=\"1\" class=\"dataframe\">\n",
       "  <thead>\n",
       "    <tr style=\"text-align: right;\">\n",
       "      <th></th>\n",
       "      <th>0</th>\n",
       "      <th>1</th>\n",
       "    </tr>\n",
       "  </thead>\n",
       "  <tbody>\n",
       "    <tr>\n",
       "      <th>0</th>\n",
       "      <td>PC9</td>\n",
       "      <td>serum_creatinine</td>\n",
       "    </tr>\n",
       "    <tr>\n",
       "      <th>1</th>\n",
       "      <td>PC8</td>\n",
       "      <td>age</td>\n",
       "    </tr>\n",
       "    <tr>\n",
       "      <th>2</th>\n",
       "      <td>PC7</td>\n",
       "      <td>ejection_fraction</td>\n",
       "    </tr>\n",
       "    <tr>\n",
       "      <th>3</th>\n",
       "      <td>PC6</td>\n",
       "      <td>time</td>\n",
       "    </tr>\n",
       "    <tr>\n",
       "      <th>4</th>\n",
       "      <td>PC5</td>\n",
       "      <td>sex</td>\n",
       "    </tr>\n",
       "    <tr>\n",
       "      <th>5</th>\n",
       "      <td>PC4</td>\n",
       "      <td>anaemia</td>\n",
       "    </tr>\n",
       "    <tr>\n",
       "      <th>6</th>\n",
       "      <td>PC3</td>\n",
       "      <td>high_blood_pressure</td>\n",
       "    </tr>\n",
       "    <tr>\n",
       "      <th>7</th>\n",
       "      <td>PC2</td>\n",
       "      <td>diabetes</td>\n",
       "    </tr>\n",
       "    <tr>\n",
       "      <th>8</th>\n",
       "      <td>PC12</td>\n",
       "      <td>creatinine_phosphokinase</td>\n",
       "    </tr>\n",
       "    <tr>\n",
       "      <th>9</th>\n",
       "      <td>PC11</td>\n",
       "      <td>serum_sodium</td>\n",
       "    </tr>\n",
       "    <tr>\n",
       "      <th>10</th>\n",
       "      <td>PC10</td>\n",
       "      <td>platelets</td>\n",
       "    </tr>\n",
       "    <tr>\n",
       "      <th>11</th>\n",
       "      <td>PC1</td>\n",
       "      <td>smoking</td>\n",
       "    </tr>\n",
       "  </tbody>\n",
       "</table>\n",
       "</div>"
      ],
      "text/plain": [
       "       0                         1\n",
       "0    PC9          serum_creatinine\n",
       "1    PC8                       age\n",
       "2    PC7         ejection_fraction\n",
       "3    PC6                      time\n",
       "4    PC5                       sex\n",
       "5    PC4                   anaemia\n",
       "6    PC3       high_blood_pressure\n",
       "7    PC2                  diabetes\n",
       "8   PC12  creatinine_phosphokinase\n",
       "9   PC11              serum_sodium\n",
       "10  PC10                 platelets\n",
       "11   PC1                   smoking"
      ]
     },
     "execution_count": 55,
     "metadata": {},
     "output_type": "execute_result"
    }
   ],
   "source": [
    "# number of components\n",
    "n_pcs= pca.components_.shape[0]\n",
    "\n",
    "# get the index of the most important feature on EACH component i.e. largest absolute value\n",
    "# using LIST COMPREHENSION HERE\n",
    "most_important = [np.abs(pca.components_[i]).argmax() for i in range(n_pcs)]\n",
    "\n",
    "initial_feature_names = data_scaled.columns\n",
    "\n",
    "# get the names\n",
    "most_important_names = [initial_feature_names[most_important[i]] for i in range(n_pcs)]\n",
    "\n",
    "# using LIST COMPREHENSION HERE AGAIN\n",
    "dic = {'PC{}'.format(i+1): most_important_names[i] for i in range(n_pcs)}\n",
    "\n",
    "# build the dataframe\n",
    "df = pd.DataFrame(sorted(dic.items(), reverse=True))\n",
    "df"
   ]
  },
  {
   "cell_type": "code",
   "execution_count": null,
   "id": "4b1b49ef",
   "metadata": {},
   "outputs": [],
   "source": []
  }
 ],
 "metadata": {
  "kernelspec": {
   "display_name": "Python 3",
   "language": "python",
   "name": "python3"
  },
  "language_info": {
   "codemirror_mode": {
    "name": "ipython",
    "version": 3
   },
   "file_extension": ".py",
   "mimetype": "text/x-python",
   "name": "python",
   "nbconvert_exporter": "python",
   "pygments_lexer": "ipython3",
   "version": "3.8.8"
  }
 },
 "nbformat": 4,
 "nbformat_minor": 5
}
