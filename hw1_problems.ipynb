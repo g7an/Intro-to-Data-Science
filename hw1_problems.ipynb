{
 "cells": [
  {
   "cell_type": "markdown",
   "id": "248ad18c",
   "metadata": {},
   "source": [
    "# Homework 1\n",
    "### Introduction to Data Science EN.553.436/EN.553.636 - Fall 2021\n",
    "\n",
    "Due date: Wednesday, September 22 at midnight."
   ]
  },
  {
   "cell_type": "markdown",
   "id": "179ab7dc",
   "metadata": {},
   "source": [
    "## Guidelines\n",
    "* Answer in the cells immediately below the problem statements. If a problem calls for code, a code cell will follow. If a problem calls for a text response, a Markdown cell will follow.\n",
    "* Your code should include some comments. Insufficient commentary may result in loss of points. But you do not necessarily need to comment every line or problem. Further guidelines:\n",
    "    - If the the meaning of some line of code would be obvious to the average Python novice, you do not need to comment (e.g., you do not need to comment _import numpy_). \n",
    "    - If your code is moderately complex, you should comment (e.g., if you nest several functions in one line, you should comment). \n",
    "    - It may be proper to comment before a code block to describe generally what you are doing (e.g., you should comment before a function definition to explain the function and its parameters)."
   ]
  },
  {
   "cell_type": "markdown",
   "id": "8cb62d85",
   "metadata": {},
   "source": [
    "# Problem 1"
   ]
  },
  {
   "cell_type": "markdown",
   "id": "8a7afdc9",
   "metadata": {},
   "source": [
    "## 1.1\n",
    "Load the _lowbwt_ dataset from the OpenML repository as a Pandas DataFrame from following URL: https://www.openml.org/data/get_csv/3640/dataset_2189_lowbwt.arff. Use a function that is able to handle loading the data directly into Jupyter from the URL. The function should take the URL as an argument. **Do not load the data using a filepath on your hard drive:** again, load the data directly into Jupyter using the URL.\n",
    "\n",
    "Print the loaded DataFrame. Read the [description](https://www.openml.org/d/203) of the dataset to better understand it. Check the column names and values to see if they match the variables discussed in the description. One or more variables may have been renamed."
   ]
  },
  {
   "cell_type": "code",
   "execution_count": 1,
   "id": "c9da2e01",
   "metadata": {
    "scrolled": true
   },
   "outputs": [
    {
     "name": "stdout",
     "output_type": "stream",
     "text": [
      "     LOW  AGE  LWT  RACE  SMOKE  PTL  HT  UI  FTV  class\n",
      "0      0   19  182     2      0    0   0   1    0   2523\n",
      "1      0   33  155     3      0    0   0   0    3   2551\n",
      "2      0   20  105     1      1    0   0   0    1   2557\n",
      "3      0   21  108     1      1    0   0   1    2   2594\n",
      "4      0   18  107     1      1    0   0   1    0   2600\n",
      "..   ...  ...  ...   ...    ...  ...  ..  ..  ...    ...\n",
      "184    1   28   95     1      1    0   0   0    2   2466\n",
      "185    1   14  100     3      0    0   0   0    2   2495\n",
      "186    1   23   94     3      1    0   0   0    0   2495\n",
      "187    1   17  142     2      0    0   1   0    0   2495\n",
      "188    1   21  130     1      1    0   1   0    3   2495\n",
      "\n",
      "[189 rows x 10 columns]\n"
     ]
    }
   ],
   "source": [
    "import pandas as pd\n",
    "\n",
    "df = pd.read_csv(\"https://www.openml.org/data/get_csv/3640/dataset_2189_lowbwt.arff\")\n",
    "print(df)"
   ]
  },
  {
   "cell_type": "markdown",
   "id": "571d8bdc",
   "metadata": {},
   "source": [
    "## 1.2\n",
    "From the full DataFrame, extract and print a DataFrame with the birthweight column (and only the birthweight column) for mothers who smoked during pregnancy and had low-birthweight deliveries."
   ]
  },
  {
   "cell_type": "code",
   "execution_count": 5,
   "id": "a05a95f5",
   "metadata": {
    "scrolled": true
   },
   "outputs": [
    {
     "name": "stdout",
     "output_type": "stream",
     "text": [
      "     LWT\n",
      "130  120\n",
      "132  187\n",
      "139  165\n",
      "140  105\n",
      "141   91\n",
      "144   92\n",
      "145  150\n",
      "147  155\n",
      "152  112\n",
      "153  117\n",
      "155  130\n",
      "156  120\n",
      "157  130\n",
      "159   80\n",
      "160  110\n",
      "164  110\n",
      "165  121\n",
      "168  102\n",
      "170  187\n",
      "171  122\n",
      "172  105\n",
      "175  142\n",
      "176  130\n",
      "177  120\n",
      "178  110\n",
      "182  190\n",
      "183  101\n",
      "184   95\n",
      "186   94\n",
      "188  130\n"
     ]
    }
   ],
   "source": [
    "selected_weights = df.loc[(df['SMOKE'] == 1) & (df['LOW'] == 1), ['LWT']]\n",
    "print(selected_weights)"
   ]
  },
  {
   "cell_type": "markdown",
   "id": "05b58d44",
   "metadata": {},
   "source": [
    "## 1.3\n",
    "Print the following statistics for the birthweights in the original full dataset:\n",
    "- Standard deviation\n",
    "- 0.16 Quantile\n",
    "- Mean\n",
    "- Median\n",
    "- 0.84 Quantile\n",
    "\n",
    "Afterwards, print the same statistics for the birthweights in the subset you selected in 1.2."
   ]
  },
  {
   "cell_type": "code",
   "execution_count": 6,
   "id": "cbd9adef",
   "metadata": {
    "scrolled": true
   },
   "outputs": [
    {
     "name": "stdout",
     "output_type": "stream",
     "text": [
      "***Statistics for the birthweights in the original full dataset***\n",
      "Standard Deviation: 30.498375229385143\n",
      "0.16 Quantile: 105.0\n",
      "Mean: 129.8148148148148\n",
      "Median: 121.0\n",
      "0.84 Quantile: 155.0\n",
      "\n",
      "\n",
      "***Statistics for the birthweights in the subset selected in 1.2 ***\n",
      "Standard Deviation: 28.5462782162579\n",
      "0.16 Quantile: 98.84\n",
      "Mean: 124.1\n",
      "Median: 120.0\n",
      "0.84 Quantile: 151.8\n"
     ]
    }
   ],
   "source": [
    "import scipy\n",
    "from scipy.stats import skew, kurtosis\n",
    "import numpy as np\n",
    "\n",
    "label = ['Standard Deviation', '0.16 Quantile' , 'Mean','Median', '0.84 Quantile']\n",
    "\n",
    "# # stats for birthweights in original full dataset\n",
    "birth_weights = df['LWT'].values\n",
    "value = [np.std(birth_weights), np.quantile(birth_weights, 0.16), np.mean(birth_weights), np.median(birth_weights), np.quantile(birth_weights, 0.84)]\n",
    "\n",
    "print('***Statistics for the birthweights in the original full dataset***')\n",
    "for i in range(len(label)):\n",
    "    print(f\"{label[i]}: {value[i]}\")\n",
    "\n",
    "print(\"\\n\")\n",
    "    \n",
    "# stats for birthweights in subset selected in 1.2\n",
    "selected_data = selected_weights['LWT'].values\n",
    "\n",
    "# print(selected_weights)\n",
    "selected_value = [np.std(selected_data), np.quantile(selected_data, 0.16), np.mean(selected_data), np.median(selected_data), np.quantile(selected_data, 0.84)]\n",
    "print('***Statistics for the birthweights in the subset selected in 1.2 ***')\n",
    "for i in range(len(label)):\n",
    "    print(f\"{label[i]}: {selected_value[i]}\")\n"
   ]
  },
  {
   "cell_type": "markdown",
   "id": "161ecee4",
   "metadata": {},
   "source": [
    "## 1.4\n",
    "Plot two density histograms: one for the birthweights in the full dataset, and one for the birthweights in the subset you selected in 1.2. Label the histograms."
   ]
  },
  {
   "cell_type": "code",
   "execution_count": 7,
   "id": "f5963a5c",
   "metadata": {
    "scrolled": true
   },
   "outputs": [
    {
     "data": {
      "image/png": "[encoded data removed]",
      "text/plain": [
       "<Figure size 432x288 with 1 Axes>"
      ]
     },
     "metadata": {
      "needs_background": "light"
     },
     "output_type": "display_data"
    }
   ],
   "source": [
    "import matplotlib.pyplot as plt\n",
    "\n",
    "plt.hist(birth_weights, bins=80)\n",
    "plt.title(\"Birthweights in full dataset\")\n",
    "plt.xlabel(\"Weights\")\n",
    "plt.ylabel(\"Frequency\");"
   ]
  },
  {
   "cell_type": "code",
   "execution_count": 8,
   "id": "3117d7a3",
   "metadata": {
    "scrolled": false
   },
   "outputs": [
    {
     "data": {
      "image/png": "[encoded data removed]",
      "text/plain": [
       "<Figure size 432x288 with 1 Axes>"
      ]
     },
     "metadata": {
      "needs_background": "light"
     },
     "output_type": "display_data"
    }
   ],
   "source": [
    "plt.hist(selected_data, bins=80)\n",
    "plt.title(\"Birthweights in subset selected in 1.2\")\n",
    "plt.xlabel(\"Weights\")\n",
    "plt.ylabel(\"Frequency\");"
   ]
  },
  {
   "cell_type": "markdown",
   "id": "19d2b9c2",
   "metadata": {},
   "source": [
    "## 1.5\n",
    "Is a normal distribution a plausible model for birthweight in either of the two datasets? Back up your answer using the previous results. This image of a normal PDF may be useful:\n",
    "\n",
    "\n",
    "![Normal PDF](bell-curve.jpeg)"
   ]
  },
  {
   "cell_type": "markdown",
   "id": "a6fd116e",
   "metadata": {},
   "source": [
    "### _Answer:_\n",
    "\n",
    "Normal distribution is not a plausible model for any of the dataset. According to the histogram plotted in 1.4, the frequency of birtweight after the mean is significantly less than the frequency before the mean. This does not conform with the bell-shape curve. Thus, result from normal distribution may not represent these datapoints well.\n",
    "\n",
    "On the other hand, by looking at the descriptive statistics in 1.3, normal distribution suits better to the subset selected at 1.2 than full dataset, as the value of 16\\% quantile and 84\\% quantile is more approximate to (mean - standard deviation) and (mean + standard deviation), and the difference between mean and median are less for the former."
   ]
  },
  {
   "cell_type": "markdown",
   "id": "d44b6864",
   "metadata": {},
   "source": [
    "# Problem 2\n",
    "In this exercise, we will proceed in steps to perform rejection sampling of a [beta random variable](https://docs.scipy.org/doc/scipy/reference/generated/scipy.stats.beta.html) using a [triangular random variable](https://docs.scipy.org/doc/scipy/reference/generated/scipy.stats.triang.html) as candidate."
   ]
  },
  {
   "cell_type": "markdown",
   "id": "a6887a8e",
   "metadata": {},
   "source": [
    "## 2.1\n",
    "Plot an overlay of a beta PDF and a triangular PDF with the following parameters:\n",
    "- For the beta PDF, a=2, b=2, loc=0, scale=1.\n",
    "- For the triangular PDF, c=0.50, loc=0, scale=1."
   ]
  },
  {
   "cell_type": "code",
   "execution_count": 46,
   "id": "1db616bb",
   "metadata": {},
   "outputs": [
    {
     "data": {
      "text/plain": [
       "[<matplotlib.lines.Line2D at 0x7f9e8b536c10>]"
      ]
     },
     "execution_count": 46,
     "metadata": {},
     "output_type": "execute_result"
    },
    {
     "data": {
      "image/png": "[encoded data removed]",
      "text/plain": [
       "<Figure size 432x288 with 1 Axes>"
      ]
     },
     "metadata": {
      "needs_background": "light"
     },
     "output_type": "display_data"
    }
   ],
   "source": [
    "from scipy.stats import beta, triang, uniform\n",
    "import matplotlib.pyplot as plt\n",
    "\n",
    "p1 = lambda x : beta.pdf(x, a=2, b=2, loc=0, scale=1)  # target distribution\n",
    "p2 = lambda x : triang.pdf(x, c=0.5, loc=0, scale=1)  # candidate distribution\n",
    "x = np.linspace(0,1,1000)  \n",
    "plt.plot(x, p1(x))\n",
    "plt.plot(x, p2(x))"
   ]
  },
  {
   "cell_type": "markdown",
   "id": "dc2eaa1e",
   "metadata": {},
   "source": [
    "## 2.2\n",
    "We will perform 10,000 trials of the rejection sampling procedure. Simulate and store 10,000 random variables distributed as $\\text{Uniform}[0,1]$ using random state 436. Simulate and store 10,000 triangular random variables from the specified triangular distribution using random state 636."
   ]
  },
  {
   "cell_type": "code",
   "execution_count": 35,
   "id": "177f2a49",
   "metadata": {},
   "outputs": [
    {
     "name": "stdout",
     "output_type": "stream",
     "text": [
      "[0.2370753  0.74754928 0.32864924 ... 0.13534041 0.84101047 0.37894859]\n",
      "[0.47207495 0.18440343 0.75170731 ... 0.60398335 0.10418176 0.40292859]\n"
     ]
    }
   ],
   "source": [
    "N = 10000\n",
    "\n",
    "norm_rv = uniform.rvs(size=N, random_state=436)\n",
    "print(norm_rv)\n",
    "\n",
    "triang_rv = triang.rvs(c=0.5, loc=0, scale=1, size=N, random_state=636)\n",
    "print(triang_rv)"
   ]
  },
  {
   "cell_type": "markdown",
   "id": "c073366a",
   "metadata": {},
   "source": [
    "## 2.3\n",
    "Let $f$ be the beta PDF and $g$ the triangular PDF. Using 1.50 as an estimate of $\\sup f/g$, generate samples from the beta distribution by rejection sampling. Store your samples. Print the number of samples you obtain."
   ]
  },
  {
   "cell_type": "code",
   "execution_count": 62,
   "id": "9dada35e",
   "metadata": {},
   "outputs": [
    {
     "name": "stdout",
     "output_type": "stream",
     "text": [
      "7508\n"
     ]
    }
   ],
   "source": [
    "# rejection sampling; candidate density: triangular distribution; target: beta distribution\n",
    "# rejection sampling algorithm: https://bookdown.org/rdpeng/advstatcomp/rejection-sampling.html 6.3.1\n",
    "samples = []\n",
    "c = 1.5\n",
    "beta_rv = beta.rvs(a=2, b=2, loc=0, size=N, scale=1, random_state=666)\n",
    "for i in range(N):\n",
    "    u = beta_rv[i]\n",
    "    ratio = p2(triang_rv[i]) / p1(triang_rv[i])\n",
    "    # accept if a beta random variable is <= ratio / c\n",
    "    if u <= ratio/c:\n",
    "        samples.append(u)\n",
    "        \n",
    "# number of samples obtained\n",
    "print(len(samples)) "
   ]
  },
  {
   "cell_type": "markdown",
   "id": "ad73a593",
   "metadata": {},
   "source": [
    "## 2.4\n",
    "Plot a density histogram of your samples overlaid with the beta and triangular PDFs. Use 100 bins."
   ]
  },
  {
   "cell_type": "code",
   "execution_count": 63,
   "id": "163ec994",
   "metadata": {
    "scrolled": true
   },
   "outputs": [
    {
     "data": {
      "image/png": "[encoded data removed]",
      "text/plain": [
       "<Figure size 432x288 with 1 Axes>"
      ]
     },
     "metadata": {
      "needs_background": "light"
     },
     "output_type": "display_data"
    }
   ],
   "source": [
    "plt.hist(samples, density=True, bins=100);\n",
    "plt.plot(x, p1(x))\n",
    "plt.plot(x, p2(x));"
   ]
  },
  {
   "cell_type": "markdown",
   "id": "ba687088",
   "metadata": {},
   "source": [
    "# Problem 3"
   ]
  },
  {
   "cell_type": "markdown",
   "id": "abd0a313",
   "metadata": {},
   "source": [
    "## 3.1\n",
    "The Epanechnikov kernel is defined by\n",
    "$$K(u) = \\frac{3}{4}\\left(1 - u^{2}\\right)\\qquad\\text{for }\\lvert u \\rvert \\leq 1$$\n",
    "Perform Epanechnikov kernel density estimation on 1,000 simulated samples from a [lognormal distribution](https://docs.scipy.org/doc/scipy/reference/generated/scipy.stats.lognorm.html) with s=1 and random state 636. Use a bandwidth of 2.0. Plot the density estimate over the support of the lognormal distribution. (You can use 2 times the maximum of your samples as an upper bound for the support.)"
   ]
  },
  {
   "cell_type": "code",
   "execution_count": 96,
   "id": "1db4268b",
   "metadata": {},
   "outputs": [
    {
     "data": {
      "text/plain": [
       "[<matplotlib.lines.Line2D at 0x7f9e8cd39820>]"
      ]
     },
     "execution_count": 96,
     "metadata": {},
     "output_type": "execute_result"
    },
    {
     "data": {
      "image/png": "[encoded data removed]",
      "text/plain": [
       "<Figure size 432x288 with 1 Axes>"
      ]
     },
     "metadata": {
      "needs_background": "light"
     },
     "output_type": "display_data"
    }
   ],
   "source": [
    "from sklearn.neighbors import KernelDensity\n",
    "from scipy.stats import lognorm\n",
    "\n",
    "# generate 100 random variables using lognormal distribution\n",
    "samples = lognorm.rvs(s=1, size=1000, random_state=636)\n",
    "\n",
    "# get the 2 times maximum of samples to avoid strong-edge effect\n",
    "upper_bound = 2 * samples.max()\n",
    "x = np.linspace(0, upper_bound, 1000) \n",
    "\n",
    "kde = KernelDensity(kernel='epanechnikov', bandwidth=2.0).fit(samples[:, np.newaxis]) # reshape to 2D array as required\n",
    "lognorm_dens = kde.score_samples(x[:, np.newaxis])\n",
    "\n",
    "f = np.exp(lognorm_dens)\n",
    "plt.plot(x, f)"
   ]
  },
  {
   "cell_type": "markdown",
   "id": "7b8d1e35",
   "metadata": {},
   "source": [
    "## 3.2\n",
    "Test whether the estimate integrates to unity over the support of the lognormal distribution."
   ]
  },
  {
   "cell_type": "code",
   "execution_count": 97,
   "id": "09bd0888",
   "metadata": {},
   "outputs": [
    {
     "data": {
      "text/plain": [
       "0.8218100002145949"
      ]
     },
     "execution_count": 97,
     "metadata": {},
     "output_type": "execute_result"
    }
   ],
   "source": [
    "# use trapezoidal function to integrate to unity over the support of lognormal distribution\n",
    "np.trapz(f, x)"
   ]
  },
  {
   "cell_type": "markdown",
   "id": "293ce053",
   "metadata": {},
   "source": [
    "## 3.3\n",
    "Explain the results of your integration."
   ]
  },
  {
   "cell_type": "markdown",
   "id": "86b7071e",
   "metadata": {},
   "source": [
    "### _Answer:_\n",
    "\n",
    "As Kernel Density Estimation (KDE) is only a method to eastimate the true probability density function of samples, it is normal that there are some misses, such as edge points not covered, kernel selection not right, etc. The possible cause for our case is that, the size of the kernel could be further adjusted, to better fit all the points in the sample."
   ]
  },
  {
   "cell_type": "markdown",
   "id": "466f585d",
   "metadata": {},
   "source": [
    "# Problem 4"
   ]
  },
  {
   "cell_type": "markdown",
   "id": "430da839",
   "metadata": {},
   "source": [
    "## 4.1\n",
    "Below we load the [Boston house prices dataset](https://scikit-learn.org/stable/datasets/toy_dataset.html#boston-dataset). We also store the labels of the predictor variables for you.\n",
    "\n",
    "Our goal will be to predict house price (MEDV) by regression. Split the dataset into a training and test set using 1/3 as the test size and a random state of 553. Use the function [_train_test_split_](https://scikit-learn.org/stable/modules/generated/sklearn.model_selection.train_test_split.html) from _sklearn.model_selection_ for this purpose."
   ]
  },
  {
   "cell_type": "code",
   "execution_count": 5,
   "id": "a5ceade1",
   "metadata": {},
   "outputs": [
    {
     "data": {
      "text/plain": [
       "array([[6.3200e-03, 1.8000e+01, 2.3100e+00, ..., 1.5300e+01, 3.9690e+02,\n",
       "        4.9800e+00],\n",
       "       [2.7310e-02, 0.0000e+00, 7.0700e+00, ..., 1.7800e+01, 3.9690e+02,\n",
       "        9.1400e+00],\n",
       "       [2.7290e-02, 0.0000e+00, 7.0700e+00, ..., 1.7800e+01, 3.9283e+02,\n",
       "        4.0300e+00],\n",
       "       ...,\n",
       "       [6.0760e-02, 0.0000e+00, 1.1930e+01, ..., 2.1000e+01, 3.9690e+02,\n",
       "        5.6400e+00],\n",
       "       [1.0959e-01, 0.0000e+00, 1.1930e+01, ..., 2.1000e+01, 3.9345e+02,\n",
       "        6.4800e+00],\n",
       "       [4.7410e-02, 0.0000e+00, 1.1930e+01, ..., 2.1000e+01, 3.9690e+02,\n",
       "        7.8800e+00]])"
      ]
     },
     "execution_count": 5,
     "metadata": {},
     "output_type": "execute_result"
    }
   ],
   "source": [
    "# Loading data:\n",
    "\n",
    "# Import function for loading the 'boston' dataset.\n",
    "from sklearn.datasets import load_boston\n",
    "# Load a 'bunch' containing data and descriptions.\n",
    "boston_bunch = load_boston()\n",
    "# Extract and store predictor variables.\n",
    "X = boston_bunch.data\n",
    "# Extract and store the variable that is the target for prediction.\n",
    "y = boston_bunch.target\n",
    "# Extract and store labels of predictor variables.\n",
    "labels = boston_bunch.feature_names"
   ]
  },
  {
   "cell_type": "code",
   "execution_count": 7,
   "id": "3c6be9d9",
   "metadata": {},
   "outputs": [],
   "source": [
    "# Your code:\n",
    "from sklearn.model_selection import train_test_split\n",
    "\n",
    "X_train, X_test, y_train, y_test = train_test_split(X, y, test_size=float(1/3), random_state=553)"
   ]
  },
  {
   "cell_type": "markdown",
   "id": "1dabfc03",
   "metadata": {},
   "source": [
    "## 4.2\n",
    "Fit three different linear models on the training set by ordinary least squares (OLS): \n",
    "- A model using all predictor variables.\n",
    "- A model using only AGE, NOX, DIS, and RAD as predictor variables.\n",
    "- A model using all polynomial combinations of degree $\\leq 2$ of the original thirteen predictor variables."
   ]
  },
  {
   "cell_type": "code",
   "execution_count": null,
   "id": "b1cea95b",
   "metadata": {},
   "outputs": [],
   "source": []
  },
  {
   "cell_type": "markdown",
   "id": "a6870645",
   "metadata": {},
   "source": [
    "## 4.3\n",
    "For model assessment, print the following for each of the three models:\n",
    "- The $R^{2}$ of the predictions on the training set.\n",
    "- The $R^{2}$ of the predictions on the test set.\n",
    "- Predicted MEDV for the first five sample points in the test set.\n",
    "- True MEDV for the first five sample points in the test set."
   ]
  },
  {
   "cell_type": "code",
   "execution_count": null,
   "id": "fa2770b0",
   "metadata": {},
   "outputs": [],
   "source": []
  },
  {
   "cell_type": "markdown",
   "id": "b1616690",
   "metadata": {},
   "source": [
    "## 4.4\n",
    "Comment on your results in 4.3, which model do you think is the best? Explain you answer."
   ]
  },
  {
   "cell_type": "markdown",
   "id": "718c0a15",
   "metadata": {},
   "source": [
    "### _Answer:_"
   ]
  },
  {
   "cell_type": "markdown",
   "id": "bf8555dd",
   "metadata": {},
   "source": [
    "## 4.5\n",
    "Consider the linear regression model using all original features you built above. Holding all other variables equal, what effect does the model predict that an increase in 0.1 parts per 10 million nitric oxide concentration in a place will have on the median value of of owner-occupied homes in that place? Write code that will return and print the answer."
   ]
  },
  {
   "cell_type": "code",
   "execution_count": null,
   "id": "b5b653ca",
   "metadata": {},
   "outputs": [],
   "source": []
  }
 ],
 "metadata": {
  "kernelspec": {
   "display_name": "Python 3",
   "language": "python",
   "name": "python3"
  },
  "language_info": {
   "codemirror_mode": {
    "name": "ipython",
    "version": 3
   },
   "file_extension": ".py",
   "mimetype": "text/x-python",
   "name": "python",
   "nbconvert_exporter": "python",
   "pygments_lexer": "ipython3",
   "version": "3.8.8"
  },
  "varInspector": {
   "cols": {
    "lenName": 16,
    "lenType": 16,
    "lenVar": 40
   },
   "kernels_config": {
    "python": {
     "delete_cmd_postfix": "",
     "delete_cmd_prefix": "del ",
     "library": "var_list.py",
     "varRefreshCmd": "print(var_dic_list())"
    },
    "r": {
     "delete_cmd_postfix": ") ",
     "delete_cmd_prefix": "rm(",
     "library": "var_list.r",
     "varRefreshCmd": "cat(var_dic_list()) "
    }
   },
   "types_to_exclude": [
    "module",
    "function",
    "builtin_function_or_method",
    "instance",
    "_Feature"
   ],
   "window_display": false
  }
 },
 "nbformat": 4,
 "nbformat_minor": 5
}
