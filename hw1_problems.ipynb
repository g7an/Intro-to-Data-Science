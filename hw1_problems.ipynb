{
 "cells": [
  {
   "cell_type": "markdown",
   "id": "248ad18c",
   "metadata": {},
   "source": [
    "# Homework 1\n",
    "### Introduction to Data Science EN.553.436/EN.553.636 - Fall 2021\n",
    "\n",
    "Due date: Wednesday, September 22 at midnight."
   ]
  },
  {
   "cell_type": "markdown",
   "id": "179ab7dc",
   "metadata": {},
   "source": [
    "## Guidelines\n",
    "* Answer in the cells immediately below the problem statements. If a problem calls for code, a code cell will follow. If a problem calls for a text response, a Markdown cell will follow.\n",
    "* Your code should include some comments. Insufficient commentary may result in loss of points. But you do not necessarily need to comment every line or problem. Further guidelines:\n",
    "    - If the the meaning of some line of code would be obvious to the average Python novice, you do not need to comment (e.g., you do not need to comment _import numpy_). \n",
    "    - If your code is moderately complex, you should comment (e.g., if you nest several functions in one line, you should comment). \n",
    "    - It may be proper to comment before a code block to describe generally what you are doing (e.g., you should comment before a function definition to explain the function and its parameters)."
   ]
  },
  {
   "cell_type": "markdown",
   "id": "8cb62d85",
   "metadata": {},
   "source": [
    "# Problem 1"
   ]
  },
  {
   "cell_type": "markdown",
   "id": "8a7afdc9",
   "metadata": {},
   "source": [
    "## 1.1\n",
    "Load the _lowbwt_ dataset from the OpenML repository as a Pandas DataFrame from following URL: https://www.openml.org/data/get_csv/3640/dataset_2189_lowbwt.arff. Use a function that is able to handle loading the data directly into Jupyter from the URL. The function should take the URL as an argument. **Do not load the data using a filepath on your hard drive:** again, load the data directly into Jupyter using the URL.\n",
    "\n",
    "Print the loaded DataFrame. Read the [description](https://www.openml.org/d/203) of the dataset to better understand it. Check the column names and values to see if they match the variables discussed in the description. One or more variables may have been renamed."
   ]
  },
  {
   "cell_type": "code",
   "execution_count": 2,
   "id": "c9da2e01",
   "metadata": {
    "scrolled": false
   },
   "outputs": [
    {
     "data": {
      "text/html": [
       "<div>\n",
       "<style scoped>\n",
       "    .dataframe tbody tr th:only-of-type {\n",
       "        vertical-align: middle;\n",
       "    }\n",
       "\n",
       "    .dataframe tbody tr th {\n",
       "        vertical-align: top;\n",
       "    }\n",
       "\n",
       "    .dataframe thead th {\n",
       "        text-align: right;\n",
       "    }\n",
       "</style>\n",
       "<table border=\"1\" class=\"dataframe\">\n",
       "  <thead>\n",
       "    <tr style=\"text-align: right;\">\n",
       "      <th></th>\n",
       "      <th>LOW</th>\n",
       "      <th>AGE</th>\n",
       "      <th>LWT</th>\n",
       "      <th>RACE</th>\n",
       "      <th>SMOKE</th>\n",
       "      <th>PTL</th>\n",
       "      <th>HT</th>\n",
       "      <th>UI</th>\n",
       "      <th>FTV</th>\n",
       "      <th>class</th>\n",
       "    </tr>\n",
       "  </thead>\n",
       "  <tbody>\n",
       "    <tr>\n",
       "      <th>0</th>\n",
       "      <td>0</td>\n",
       "      <td>19</td>\n",
       "      <td>182</td>\n",
       "      <td>2</td>\n",
       "      <td>0</td>\n",
       "      <td>0</td>\n",
       "      <td>0</td>\n",
       "      <td>1</td>\n",
       "      <td>0</td>\n",
       "      <td>2523</td>\n",
       "    </tr>\n",
       "    <tr>\n",
       "      <th>1</th>\n",
       "      <td>0</td>\n",
       "      <td>33</td>\n",
       "      <td>155</td>\n",
       "      <td>3</td>\n",
       "      <td>0</td>\n",
       "      <td>0</td>\n",
       "      <td>0</td>\n",
       "      <td>0</td>\n",
       "      <td>3</td>\n",
       "      <td>2551</td>\n",
       "    </tr>\n",
       "    <tr>\n",
       "      <th>2</th>\n",
       "      <td>0</td>\n",
       "      <td>20</td>\n",
       "      <td>105</td>\n",
       "      <td>1</td>\n",
       "      <td>1</td>\n",
       "      <td>0</td>\n",
       "      <td>0</td>\n",
       "      <td>0</td>\n",
       "      <td>1</td>\n",
       "      <td>2557</td>\n",
       "    </tr>\n",
       "    <tr>\n",
       "      <th>3</th>\n",
       "      <td>0</td>\n",
       "      <td>21</td>\n",
       "      <td>108</td>\n",
       "      <td>1</td>\n",
       "      <td>1</td>\n",
       "      <td>0</td>\n",
       "      <td>0</td>\n",
       "      <td>1</td>\n",
       "      <td>2</td>\n",
       "      <td>2594</td>\n",
       "    </tr>\n",
       "    <tr>\n",
       "      <th>4</th>\n",
       "      <td>0</td>\n",
       "      <td>18</td>\n",
       "      <td>107</td>\n",
       "      <td>1</td>\n",
       "      <td>1</td>\n",
       "      <td>0</td>\n",
       "      <td>0</td>\n",
       "      <td>1</td>\n",
       "      <td>0</td>\n",
       "      <td>2600</td>\n",
       "    </tr>\n",
       "    <tr>\n",
       "      <th>...</th>\n",
       "      <td>...</td>\n",
       "      <td>...</td>\n",
       "      <td>...</td>\n",
       "      <td>...</td>\n",
       "      <td>...</td>\n",
       "      <td>...</td>\n",
       "      <td>...</td>\n",
       "      <td>...</td>\n",
       "      <td>...</td>\n",
       "      <td>...</td>\n",
       "    </tr>\n",
       "    <tr>\n",
       "      <th>184</th>\n",
       "      <td>1</td>\n",
       "      <td>28</td>\n",
       "      <td>95</td>\n",
       "      <td>1</td>\n",
       "      <td>1</td>\n",
       "      <td>0</td>\n",
       "      <td>0</td>\n",
       "      <td>0</td>\n",
       "      <td>2</td>\n",
       "      <td>2466</td>\n",
       "    </tr>\n",
       "    <tr>\n",
       "      <th>185</th>\n",
       "      <td>1</td>\n",
       "      <td>14</td>\n",
       "      <td>100</td>\n",
       "      <td>3</td>\n",
       "      <td>0</td>\n",
       "      <td>0</td>\n",
       "      <td>0</td>\n",
       "      <td>0</td>\n",
       "      <td>2</td>\n",
       "      <td>2495</td>\n",
       "    </tr>\n",
       "    <tr>\n",
       "      <th>186</th>\n",
       "      <td>1</td>\n",
       "      <td>23</td>\n",
       "      <td>94</td>\n",
       "      <td>3</td>\n",
       "      <td>1</td>\n",
       "      <td>0</td>\n",
       "      <td>0</td>\n",
       "      <td>0</td>\n",
       "      <td>0</td>\n",
       "      <td>2495</td>\n",
       "    </tr>\n",
       "    <tr>\n",
       "      <th>187</th>\n",
       "      <td>1</td>\n",
       "      <td>17</td>\n",
       "      <td>142</td>\n",
       "      <td>2</td>\n",
       "      <td>0</td>\n",
       "      <td>0</td>\n",
       "      <td>1</td>\n",
       "      <td>0</td>\n",
       "      <td>0</td>\n",
       "      <td>2495</td>\n",
       "    </tr>\n",
       "    <tr>\n",
       "      <th>188</th>\n",
       "      <td>1</td>\n",
       "      <td>21</td>\n",
       "      <td>130</td>\n",
       "      <td>1</td>\n",
       "      <td>1</td>\n",
       "      <td>0</td>\n",
       "      <td>1</td>\n",
       "      <td>0</td>\n",
       "      <td>3</td>\n",
       "      <td>2495</td>\n",
       "    </tr>\n",
       "  </tbody>\n",
       "</table>\n",
       "<p>189 rows × 10 columns</p>\n",
       "</div>"
      ],
      "text/plain": [
       "     LOW  AGE  LWT  RACE  SMOKE  PTL  HT  UI  FTV  class\n",
       "0      0   19  182     2      0    0   0   1    0   2523\n",
       "1      0   33  155     3      0    0   0   0    3   2551\n",
       "2      0   20  105     1      1    0   0   0    1   2557\n",
       "3      0   21  108     1      1    0   0   1    2   2594\n",
       "4      0   18  107     1      1    0   0   1    0   2600\n",
       "..   ...  ...  ...   ...    ...  ...  ..  ..  ...    ...\n",
       "184    1   28   95     1      1    0   0   0    2   2466\n",
       "185    1   14  100     3      0    0   0   0    2   2495\n",
       "186    1   23   94     3      1    0   0   0    0   2495\n",
       "187    1   17  142     2      0    0   1   0    0   2495\n",
       "188    1   21  130     1      1    0   1   0    3   2495\n",
       "\n",
       "[189 rows x 10 columns]"
      ]
     },
     "execution_count": 2,
     "metadata": {},
     "output_type": "execute_result"
    }
   ],
   "source": [
    "import pandas as pd\n",
    "\n",
    "df = pd.read_csv(\"https://www.openml.org/data/get_csv/3640/dataset_2189_lowbwt.arff\")\n",
    "df"
   ]
  },
  {
   "cell_type": "markdown",
   "id": "571d8bdc",
   "metadata": {},
   "source": [
    "## 1.2\n",
    "From the full DataFrame, extract and print a DataFrame with the birthweight column (and only the birthweight column) for mothers who smoked during pregnancy and had low-birthweight deliveries."
   ]
  },
  {
   "cell_type": "code",
   "execution_count": 5,
   "id": "a05a95f5",
   "metadata": {
    "scrolled": true
   },
   "outputs": [
    {
     "data": {
      "text/html": [
       "<div>\n",
       "<style scoped>\n",
       "    .dataframe tbody tr th:only-of-type {\n",
       "        vertical-align: middle;\n",
       "    }\n",
       "\n",
       "    .dataframe tbody tr th {\n",
       "        vertical-align: top;\n",
       "    }\n",
       "\n",
       "    .dataframe thead th {\n",
       "        text-align: right;\n",
       "    }\n",
       "</style>\n",
       "<table border=\"1\" class=\"dataframe\">\n",
       "  <thead>\n",
       "    <tr style=\"text-align: right;\">\n",
       "      <th></th>\n",
       "      <th>class</th>\n",
       "    </tr>\n",
       "  </thead>\n",
       "  <tbody>\n",
       "    <tr>\n",
       "      <th>130</th>\n",
       "      <td>709</td>\n",
       "    </tr>\n",
       "    <tr>\n",
       "      <th>132</th>\n",
       "      <td>1135</td>\n",
       "    </tr>\n",
       "    <tr>\n",
       "      <th>139</th>\n",
       "      <td>1790</td>\n",
       "    </tr>\n",
       "    <tr>\n",
       "      <th>140</th>\n",
       "      <td>1818</td>\n",
       "    </tr>\n",
       "    <tr>\n",
       "      <th>141</th>\n",
       "      <td>1885</td>\n",
       "    </tr>\n",
       "    <tr>\n",
       "      <th>144</th>\n",
       "      <td>1928</td>\n",
       "    </tr>\n",
       "    <tr>\n",
       "      <th>145</th>\n",
       "      <td>1928</td>\n",
       "    </tr>\n",
       "    <tr>\n",
       "      <th>147</th>\n",
       "      <td>1936</td>\n",
       "    </tr>\n",
       "    <tr>\n",
       "      <th>152</th>\n",
       "      <td>2084</td>\n",
       "    </tr>\n",
       "    <tr>\n",
       "      <th>153</th>\n",
       "      <td>2084</td>\n",
       "    </tr>\n",
       "    <tr>\n",
       "      <th>155</th>\n",
       "      <td>2125</td>\n",
       "    </tr>\n",
       "    <tr>\n",
       "      <th>156</th>\n",
       "      <td>2126</td>\n",
       "    </tr>\n",
       "    <tr>\n",
       "      <th>157</th>\n",
       "      <td>2187</td>\n",
       "    </tr>\n",
       "    <tr>\n",
       "      <th>159</th>\n",
       "      <td>2211</td>\n",
       "    </tr>\n",
       "    <tr>\n",
       "      <th>160</th>\n",
       "      <td>2225</td>\n",
       "    </tr>\n",
       "    <tr>\n",
       "      <th>164</th>\n",
       "      <td>2296</td>\n",
       "    </tr>\n",
       "    <tr>\n",
       "      <th>165</th>\n",
       "      <td>2296</td>\n",
       "    </tr>\n",
       "    <tr>\n",
       "      <th>168</th>\n",
       "      <td>2353</td>\n",
       "    </tr>\n",
       "    <tr>\n",
       "      <th>170</th>\n",
       "      <td>2367</td>\n",
       "    </tr>\n",
       "    <tr>\n",
       "      <th>171</th>\n",
       "      <td>2381</td>\n",
       "    </tr>\n",
       "    <tr>\n",
       "      <th>172</th>\n",
       "      <td>2381</td>\n",
       "    </tr>\n",
       "    <tr>\n",
       "      <th>175</th>\n",
       "      <td>2410</td>\n",
       "    </tr>\n",
       "    <tr>\n",
       "      <th>176</th>\n",
       "      <td>2410</td>\n",
       "    </tr>\n",
       "    <tr>\n",
       "      <th>177</th>\n",
       "      <td>2414</td>\n",
       "    </tr>\n",
       "    <tr>\n",
       "      <th>178</th>\n",
       "      <td>2424</td>\n",
       "    </tr>\n",
       "    <tr>\n",
       "      <th>182</th>\n",
       "      <td>2466</td>\n",
       "    </tr>\n",
       "    <tr>\n",
       "      <th>183</th>\n",
       "      <td>2466</td>\n",
       "    </tr>\n",
       "    <tr>\n",
       "      <th>184</th>\n",
       "      <td>2466</td>\n",
       "    </tr>\n",
       "    <tr>\n",
       "      <th>186</th>\n",
       "      <td>2495</td>\n",
       "    </tr>\n",
       "    <tr>\n",
       "      <th>188</th>\n",
       "      <td>2495</td>\n",
       "    </tr>\n",
       "  </tbody>\n",
       "</table>\n",
       "</div>"
      ],
      "text/plain": [
       "     class\n",
       "130    709\n",
       "132   1135\n",
       "139   1790\n",
       "140   1818\n",
       "141   1885\n",
       "144   1928\n",
       "145   1928\n",
       "147   1936\n",
       "152   2084\n",
       "153   2084\n",
       "155   2125\n",
       "156   2126\n",
       "157   2187\n",
       "159   2211\n",
       "160   2225\n",
       "164   2296\n",
       "165   2296\n",
       "168   2353\n",
       "170   2367\n",
       "171   2381\n",
       "172   2381\n",
       "175   2410\n",
       "176   2410\n",
       "177   2414\n",
       "178   2424\n",
       "182   2466\n",
       "183   2466\n",
       "184   2466\n",
       "186   2495\n",
       "188   2495"
      ]
     },
     "execution_count": 5,
     "metadata": {},
     "output_type": "execute_result"
    }
   ],
   "source": [
    "# according to documentation, target is class\n",
    "selected_weights = df.loc[(df['SMOKE'] == 1) & (df['LOW'] == 1), ['class']]\n",
    "selected_weights"
   ]
  },
  {
   "cell_type": "markdown",
   "id": "05b58d44",
   "metadata": {},
   "source": [
    "## 1.3\n",
    "Print the following statistics for the birthweights in the original full dataset:\n",
    "- Standard deviation\n",
    "- 0.16 Quantile\n",
    "- Mean\n",
    "- Median\n",
    "- 0.84 Quantile\n",
    "\n",
    "Afterwards, print the same statistics for the birthweights in the subset you selected in 1.2."
   ]
  },
  {
   "cell_type": "code",
   "execution_count": 7,
   "id": "cbd9adef",
   "metadata": {
    "scrolled": false
   },
   "outputs": [
    {
     "name": "stdout",
     "output_type": "stream",
     "text": [
      "***Statistics for the birthweights in the original full dataset***\n",
      "Standard Deviation: 727.091228257506\n",
      "0.16 Quantile: 2226.2\n",
      "Mean: 2944.6560846560847\n",
      "Median: 2977.0\n",
      "0.84 Quantile: 3695.1599999999994\n",
      "\n",
      "\n",
      "***Statistics for the birthweights in the subset selected in 1.2 ***\n",
      "Standard Deviation: 393.08747824823365\n",
      "0.16 Quantile: 1912.52\n",
      "Mean: 2143.0333333333333\n",
      "Median: 2260.5\n",
      "0.84 Quantile: 2439.12\n"
     ]
    }
   ],
   "source": [
    "import scipy\n",
    "from scipy.stats import skew, kurtosis\n",
    "import numpy as np\n",
    "\n",
    "label = ['Standard Deviation', '0.16 Quantile' , 'Mean','Median', '0.84 Quantile']\n",
    "\n",
    "# # stats for birthweights in original full dataset\n",
    "birth_weights = df['class'].values\n",
    "value = [np.std(birth_weights), np.quantile(birth_weights, 0.16), np.mean(birth_weights), np.median(birth_weights), np.quantile(birth_weights, 0.84)]\n",
    "\n",
    "print('***Statistics for the birthweights in the original full dataset***')\n",
    "for i in range(len(label)):\n",
    "    print(f\"{label[i]}: {value[i]}\")\n",
    "\n",
    "print(\"\\n\")\n",
    "    \n",
    "# stats for birthweights in subset selected in 1.2\n",
    "selected_data = selected_weights['class'].values\n",
    "\n",
    "# print(selected_weights)\n",
    "selected_value = [np.std(selected_data), np.quantile(selected_data, 0.16), np.mean(selected_data), np.median(selected_data), np.quantile(selected_data, 0.84)]\n",
    "print('***Statistics for the birthweights in the subset selected in 1.2 ***')\n",
    "for i in range(len(label)):\n",
    "    print(f\"{label[i]}: {selected_value[i]}\")\n"
   ]
  },
  {
   "cell_type": "markdown",
   "id": "161ecee4",
   "metadata": {},
   "source": [
    "## 1.4\n",
    "Plot two density histograms: one for the birthweights in the full dataset, and one for the birthweights in the subset you selected in 1.2. Label the histograms."
   ]
  },
  {
   "cell_type": "code",
   "execution_count": 10,
   "id": "f5963a5c",
   "metadata": {
    "scrolled": true
   },
   "outputs": [
    {
     "data": {
      "image/png": "[encoded data removed]",
      "text/plain": [
       "<Figure size 432x288 with 1 Axes>"
      ]
     },
     "metadata": {
      "needs_background": "light"
     },
     "output_type": "display_data"
    }
   ],
   "source": [
    "import matplotlib.pyplot as plt\n",
    "\n",
    "# difference between density plot and normal histogram: y axis of density plot is a percentage\n",
    "# whereas that of normal histogram is frequency\n",
    "plt.hist(birth_weights, density=True)\n",
    "plt.title(\"Birthweights in full dataset\")\n",
    "plt.xlabel(\"Weights\")\n",
    "plt.ylabel(\"Frequency\");"
   ]
  },
  {
   "cell_type": "code",
   "execution_count": 11,
   "id": "3117d7a3",
   "metadata": {
    "scrolled": true
   },
   "outputs": [
    {
     "data": {
      "image/png": "[encoded data removed]",
      "text/plain": [
       "<Figure size 432x288 with 1 Axes>"
      ]
     },
     "metadata": {
      "needs_background": "light"
     },
     "output_type": "display_data"
    }
   ],
   "source": [
    "plt.hist(selected_data, density=True)\n",
    "plt.title(\"Birthweights in subset selected in 1.2\")\n",
    "plt.xlabel(\"Weights\")\n",
    "plt.ylabel(\"Frequency\");"
   ]
  },
  {
   "cell_type": "markdown",
   "id": "19d2b9c2",
   "metadata": {},
   "source": [
    "## 1.5\n",
    "Is a normal distribution a plausible model for birthweight in either of the two datasets? Back up your answer using the previous results. This image of a normal PDF may be useful:\n",
    "\n",
    "\n",
    "![Normal PDF](bell-curve.jpeg)"
   ]
  },
  {
   "cell_type": "markdown",
   "id": "a6fd116e",
   "metadata": {},
   "source": [
    "### _Answer:_\n",
    "\n",
    "The normal distribution is a plausible model for birthweight in the full dataset. Birthweight in the full dataset has sample quantiles that are approximately aligned with normal quantiles; a sample mean and median that are close; and a density histogram that exhibits an approximately normal shape. The normal distribution is not a plausible model for birthweight in the other dataset because birthweight in that dataset does not have the aforementioned properties."
   ]
  },
  {
   "cell_type": "markdown",
   "id": "d44b6864",
   "metadata": {},
   "source": [
    "# Problem 2\n",
    "In this exercise, we will proceed in steps to perform rejection sampling of a [beta random variable](https://docs.scipy.org/doc/scipy/reference/generated/scipy.stats.beta.html) using a [triangular random variable](https://docs.scipy.org/doc/scipy/reference/generated/scipy.stats.triang.html) as candidate."
   ]
  },
  {
   "cell_type": "markdown",
   "id": "a6887a8e",
   "metadata": {},
   "source": [
    "## 2.1\n",
    "Plot an overlay of a beta PDF and a triangular PDF with the following parameters:\n",
    "- For the beta PDF, a=2, b=2, loc=0, scale=1.\n",
    "- For the triangular PDF, c=0.50, loc=0, scale=1."
   ]
  },
  {
   "cell_type": "code",
   "execution_count": 16,
   "id": "1db616bb",
   "metadata": {},
   "outputs": [
    {
     "data": {
      "text/plain": [
       "[<matplotlib.lines.Line2D at 0x7fde83273430>]"
      ]
     },
     "execution_count": 16,
     "metadata": {},
     "output_type": "execute_result"
    },
    {
     "data": {
      "image/png": "[encoded data removed]",
      "text/plain": [
       "<Figure size 432x288 with 1 Axes>"
      ]
     },
     "metadata": {
      "needs_background": "light"
     },
     "output_type": "display_data"
    }
   ],
   "source": [
    "from scipy.stats import beta, triang, uniform\n",
    "import matplotlib.pyplot as plt\n",
    "\n",
    "f = lambda x : beta.pdf(x, a=2, b=2, loc=0, scale=1)  # target distribution\n",
    "g = lambda x : triang.pdf(x, c=0.5, loc=0, scale=1)  # candidate distribution\n",
    "x = np.linspace(0,1,1000)  \n",
    "plt.plot(x, p1(x))\n",
    "plt.plot(x, p2(x))"
   ]
  },
  {
   "cell_type": "markdown",
   "id": "dc2eaa1e",
   "metadata": {},
   "source": [
    "## 2.2\n",
    "We will perform 10,000 trials of the rejection sampling procedure. Simulate and store 10,000 random variables distributed as $\\text{Uniform}[0,1]$ using random state 436. Simulate and store 10,000 triangular random variables from the specified triangular distribution using random state 636."
   ]
  },
  {
   "cell_type": "code",
   "execution_count": 17,
   "id": "177f2a49",
   "metadata": {},
   "outputs": [
    {
     "name": "stdout",
     "output_type": "stream",
     "text": [
      "[0.2370753  0.74754928 0.32864924 ... 0.13534041 0.84101047 0.37894859]\n",
      "[0.47207495 0.18440343 0.75170731 ... 0.60398335 0.10418176 0.40292859]\n"
     ]
    }
   ],
   "source": [
    "N = 10000\n",
    "\n",
    "norm_rv = uniform.rvs(size=N, random_state=436)\n",
    "print(norm_rv)\n",
    "\n",
    "triang_rv = triang.rvs(c=0.5, loc=0, scale=1, size=N, random_state=636)\n",
    "print(triang_rv)"
   ]
  },
  {
   "cell_type": "markdown",
   "id": "c073366a",
   "metadata": {},
   "source": [
    "## 2.3\n",
    "Let $f$ be the beta PDF and $g$ the triangular PDF. Using 1.50 as an estimate of $\\sup f/g$, generate samples from the beta distribution by rejection sampling. Store your samples. Print the number of samples you obtain."
   ]
  },
  {
   "cell_type": "code",
   "execution_count": 20,
   "id": "9dada35e",
   "metadata": {},
   "outputs": [
    {
     "name": "stdout",
     "output_type": "stream",
     "text": [
      "6674\n"
     ]
    }
   ],
   "source": [
    "# rejection sampling; candidate density: triangular distribution; target: beta distribution\n",
    "# rejection sampling algorithm: https://bookdown.org/rdpeng/advstatcomp/rejection-sampling.html 6.3.1\n",
    "samples = []\n",
    "c = 1.5\n",
    "beta_rv = beta.rvs(a=2, b=2, loc=0, size=N, scale=1, random_state=666)\n",
    "for i in range(N):\n",
    "    ratio = f(triang_rv[i]) / g(triang_rv[i])\n",
    "    # accept if a uniform random variable is <= ratio / c\n",
    "    if norm_rv[i] <= ratio/c:\n",
    "        samples.append(triang_rv[i])\n",
    "        \n",
    "# number of samples obtained\n",
    "print(len(samples)) "
   ]
  },
  {
   "cell_type": "markdown",
   "id": "ad73a593",
   "metadata": {},
   "source": [
    "## 2.4\n",
    "Plot a density histogram of your samples overlaid with the beta and triangular PDFs. Use 100 bins."
   ]
  },
  {
   "cell_type": "code",
   "execution_count": 22,
   "id": "163ec994",
   "metadata": {
    "scrolled": false
   },
   "outputs": [
    {
     "data": {
      "image/png": "[encoded data removed]",
      "text/plain": [
       "<Figure size 432x288 with 1 Axes>"
      ]
     },
     "metadata": {
      "needs_background": "light"
     },
     "output_type": "display_data"
    }
   ],
   "source": [
    "plt.hist(samples, density=True, bins=100);\n",
    "plt.plot(x, p1(x))\n",
    "plt.plot(x, p2(x));"
   ]
  },
  {
   "cell_type": "markdown",
   "id": "ba687088",
   "metadata": {},
   "source": [
    "# Problem 3"
   ]
  },
  {
   "cell_type": "markdown",
   "id": "abd0a313",
   "metadata": {},
   "source": [
    "## 3.1\n",
    "The Epanechnikov kernel is defined by\n",
    "$$K(u) = \\frac{3}{4}\\left(1 - u^{2}\\right)\\qquad\\text{for }\\lvert u \\rvert \\leq 1$$\n",
    "Perform Epanechnikov kernel density estimation on 1,000 simulated samples from a [lognormal distribution](https://docs.scipy.org/doc/scipy/reference/generated/scipy.stats.lognorm.html) with s=1 and random state 636. Use a bandwidth of 2.0. Plot the density estimate over the support of the lognormal distribution. (You can use 2 times the maximum of your samples as an upper bound for the support.)"
   ]
  },
  {
   "cell_type": "code",
   "execution_count": 13,
   "id": "1db4268b",
   "metadata": {},
   "outputs": [
    {
     "data": {
      "image/png": "[encoded data removed]",
      "text/plain": [
       "<Figure size 432x288 with 1 Axes>"
      ]
     },
     "metadata": {
      "needs_background": "light"
     },
     "output_type": "display_data"
    }
   ],
   "source": [
    "from sklearn.neighbors import KernelDensity\n",
    "from scipy.stats import lognorm\n",
    "import numpy as np\n",
    "import matplotlib.pyplot as plt\n",
    "\n",
    "# generate 100 random variables using lognormal distribution\n",
    "samples = lognorm.rvs(s=1, size=1000, random_state=636)\n",
    "\n",
    "# get the 2 times maximum of samples to avoid strong-edge effect\n",
    "upper_bound = 2 * samples.max()\n",
    "x = np.linspace(0, upper_bound, 1000) \n",
    "\n",
    "kde = KernelDensity(kernel='epanechnikov', bandwidth=2.0).fit(samples[:, np.newaxis]) # reshape to 2D array as required\n",
    "lognorm_dens = kde.score_samples(x[:, np.newaxis]) # print log-likelihood of each sample under the model.\n",
    "\n",
    "f = np.exp(lognorm_dens)\n",
    "plt.plot(x, f)\n",
    "\n",
    "# 解法2:\n",
    "def epa(u):\n",
    "    return (3/4)*(1-u**2)*(abs(u)<=1)\n",
    "\n",
    "kde = lambda x, data, bw: (1/(len(data)*bw)) * sum([epa((x - data[i])/bw) \\\n",
    "                                for i in range(len(data))])\n",
    "\n",
    "x = np.linspace(0, 2*max(samples), 100);\n",
    "bw = 2.0\n",
    "plt.plot(x, kde(x, samples, bw))\n",
    "plt.show()"
   ]
  },
  {
   "cell_type": "markdown",
   "id": "7b8d1e35",
   "metadata": {},
   "source": [
    "## 3.2\n",
    "Test whether the estimate integrates to unity over the support of the lognormal distribution."
   ]
  },
  {
   "cell_type": "code",
   "execution_count": 28,
   "id": "09bd0888",
   "metadata": {
    "scrolled": true
   },
   "outputs": [
    {
     "data": {
      "text/plain": [
       "0.8218100002145949"
      ]
     },
     "execution_count": 28,
     "metadata": {},
     "output_type": "execute_result"
    }
   ],
   "source": [
    "# use trapezoidal function to integrate to unity over the support of lognormal distribution\n",
    "np.trapz(f, x)"
   ]
  },
  {
   "cell_type": "markdown",
   "id": "293ce053",
   "metadata": {},
   "source": [
    "## 3.3\n",
    "Explain the results of your integration."
   ]
  },
  {
   "cell_type": "markdown",
   "id": "86b7071e",
   "metadata": {},
   "source": [
    "### _Answer:_\n",
    "\n",
    "The density estimate does not integrate to unity because the support of the lognormal distribution is nonnegative, while the support of the density estimate extends into the negative domain as can be seen from the plot below."
   ]
  },
  {
   "cell_type": "code",
   "execution_count": 20,
   "id": "d694e72f",
   "metadata": {},
   "outputs": [
    {
     "name": "stdout",
     "output_type": "stream",
     "text": [
      "Integral:\t 1.0000368736356235\n"
     ]
    },
    {
     "data": {
      "image/png": "[encoded data removed]",
      "text/plain": [
       "<Figure size 432x288 with 1 Axes>"
      ]
     },
     "metadata": {
      "needs_background": "light"
     },
     "output_type": "display_data"
    }
   ],
   "source": [
    "x = np.linspace(-2, 2*max(samples), 100);\n",
    "bw = 2.0\n",
    "plt.plot(x, kde(x, samples, bw))\n",
    "\n",
    "print('Integral:\\t', np.trapz(kde(x, samples, bw), x))"
   ]
  },
  {
   "cell_type": "markdown",
   "id": "466f585d",
   "metadata": {},
   "source": [
    "# Problem 4"
   ]
  },
  {
   "cell_type": "markdown",
   "id": "430da839",
   "metadata": {},
   "source": [
    "## 4.1\n",
    "Below we load the [Boston house prices dataset](https://scikit-learn.org/stable/datasets/toy_dataset.html#boston-dataset). We also store the labels of the predictor variables for you.\n",
    "\n",
    "Our goal will be to predict house price (MEDV) by regression. Split the dataset into a training and test set using 1/3 as the test size and a random state of 553. Use the function [_train_test_split_](https://scikit-learn.org/stable/modules/generated/sklearn.model_selection.train_test_split.html) from _sklearn.model_selection_ for this purpose."
   ]
  },
  {
   "cell_type": "code",
   "execution_count": 22,
   "id": "a5ceade1",
   "metadata": {},
   "outputs": [],
   "source": [
    "# Loading data:\n",
    "\n",
    "# Import function for loading the 'boston' dataset.\n",
    "from sklearn.datasets import load_boston\n",
    "# Load a 'bunch' containing data and descriptions.\n",
    "boston_bunch = load_boston()\n",
    "# Extract and store predictor variables.\n",
    "X = boston_bunch.data\n",
    "# Extract and store the variable that is the target for prediction.\n",
    "y = boston_bunch.target\n",
    "# Extract and store labels of predictor variables.\n",
    "labels = boston_bunch.feature_names"
   ]
  },
  {
   "cell_type": "code",
   "execution_count": 23,
   "id": "3c6be9d9",
   "metadata": {
    "scrolled": true
   },
   "outputs": [],
   "source": [
    "# Your code:\n",
    "from sklearn.model_selection import train_test_split\n",
    "\n",
    "X_train, X_test, y_train, y_test = train_test_split(X, y, test_size=float(1/3), random_state=553)"
   ]
  },
  {
   "cell_type": "markdown",
   "id": "1dabfc03",
   "metadata": {},
   "source": [
    "## 4.2\n",
    "Fit three different linear models on the training set by ordinary least squares (OLS): \n",
    "- A model using all predictor variables.\n",
    "- A model using only AGE, NOX, DIS, and RAD as predictor variables.\n",
    "- A model using all polynomial combinations of degree $\\leq 2$ of the original thirteen predictor variables."
   ]
  },
  {
   "cell_type": "code",
   "execution_count": 24,
   "id": "b1cea95b",
   "metadata": {
    "scrolled": true
   },
   "outputs": [
    {
     "data": {
      "text/plain": [
       "LinearRegression()"
      ]
     },
     "execution_count": 24,
     "metadata": {},
     "output_type": "execute_result"
    }
   ],
   "source": [
    "from sklearn.linear_model import LinearRegression\n",
    "import numpy as np\n",
    "from array import array\n",
    "# model 1: OLS (all predictor variables)\n",
    "ols_linear_reg = LinearRegression().fit(X_train, y_train) # linear regression\n",
    "\n",
    "# model 2: OLS with 4 predictor variables.\n",
    "predictor_label = ['AGE', 'NOX', 'DIS', 'RAD']\n",
    "cols_wanted = np.where(np.isin(labels, predictor_label))\n",
    "\n",
    "num_rows, _ = X_train.shape # get number of rows from training set\n",
    "selected_X_train = X_train[:, cols_wanted].reshape(num_rows, 4)\n",
    "selected_lr = LinearRegression().fit(selected_X_train, y_train)\n",
    "\n",
    "# model 3: OLS with polynomial combination of degree <=2\n",
    "from sklearn.preprocessing import PolynomialFeatures\n",
    "\n",
    "pf = PolynomialFeatures(degree=2)\n",
    "preprocessed_lr = LinearRegression()\n",
    "xpf = pf.fit_transform(X_train)\n",
    "preprocessed_lr.fit(xpf,y_train)"
   ]
  },
  {
   "cell_type": "markdown",
   "id": "a6870645",
   "metadata": {},
   "source": [
    "## 4.3\n",
    "For model assessment, print the following for each of the three models:\n",
    "- The $R^{2}$ of the predictions on the training set.\n",
    "- The $R^{2}$ of the predictions on the test set.\n",
    "- Predicted MEDV for the first five sample points in the test set.\n",
    "- True MEDV for the first five sample points in the test set."
   ]
  },
  {
   "cell_type": "code",
   "execution_count": 25,
   "id": "fa2770b0",
   "metadata": {},
   "outputs": [
    {
     "name": "stdout",
     "output_type": "stream",
     "text": [
      "\n",
      "*** Model: OLS (all predictor variables) ***\n",
      "R^2 for training set: 0.7666994695638145\n",
      "R^2 for test set: 0.6872592137146449\n",
      "Predicted MEDV (first 5 samples): [24.2652595  12.11746393 27.67012303 24.11419114 21.83525384]\n",
      "Actual MEDV (first 5 samples): [24.6  5.6 27.1 21.9 20. ]\n",
      "\n",
      "*** Model: OLS (4 predictor variables) ***\n",
      "R^2 for training set: 0.2815080549659952\n",
      "R^2 for test set: 0.18523720715377578\n",
      "Predicted MEDV (first 5 samples): [27.88749751 15.41806533 25.36918791 24.09219392 26.37783049]\n",
      "Actual MEDV (first 5 samples): [24.6  5.6 27.1 21.9 20. ]\n",
      "\n",
      "*** Model: OLS with polynomial combination of degree <=2 ***\n",
      "R^2 for training set: 0.8908633483529383\n",
      "R^2 for test set: 0.7023336101169156\n",
      "Predicted MEDV (first 5 samples): [20.61694193 19.116256   28.56910515 19.51050615 23.50633717]\n",
      "Actual MEDV (first 5 samples): [24.6  5.6 27.1 21.9 20. ]\n"
     ]
    }
   ],
   "source": [
    "def print_value(model_name, *args):\n",
    "    \"\"\"\n",
    "    function that prints the value for particular model\n",
    "    params:\n",
    "        model_name: str. \n",
    "        args: int or list of R^2 and MEDV values as required\n",
    "    return:\n",
    "        None\n",
    "    \"\"\"\n",
    "    \n",
    "    label = ['R^2 for training set', 'R^2 for test set' , 'Predicted MEDV (first 5 samples)', \\\n",
    "             'Actual MEDV (first 5 samples)']\n",
    "    \n",
    "    print(f\"\\n*** {model_name} ***\")\n",
    "    for i in range(len(label)):\n",
    "        print(f\"{label[i]}: {args[i]}\")\n",
    "\n",
    "\n",
    "# model 1: OLS (all predictor variables)\n",
    "r2_train_lr = ols_linear_reg.score(X_train, y_train)\n",
    "r2_test_lr = ols_linear_reg.score(X_test, y_test)\n",
    "medv_hat_lr = ols_linear_reg.predict(X_test[:5])\n",
    "medv_lr = y_test[:5]\n",
    "print_value(\"Model: OLS (all predictor variables)\", r2_train_lr, r2_test_lr, medv_hat_lr, medv_lr)\n",
    "\n",
    "# model 2: OLS with 4 predictor variables.\n",
    "\n",
    "# get row no. of test set\n",
    "num_rows, _ = X_test.shape \n",
    "# process test set to partcular dimension\n",
    "selected_X_test = X_test[:, cols_wanted].reshape(num_rows, 4) \n",
    "\n",
    "r2_train_selected = selected_lr.score(selected_X_train, y_train)\n",
    "r2_test_selected = selected_lr.score(selected_X_test, y_test)\n",
    "medv_hat_slr = selected_lr.predict(selected_X_test[:5])\n",
    "print_value(\"Model: OLS (4 predictor variables)\", r2_train_selected, r2_test_selected, medv_hat_slr, medv_lr)\n",
    "\n",
    "# model 3: OLS with polynomial combination of degree <=2\n",
    "\n",
    "# get x variable after pre-processing (generating polynomial features)\n",
    "xpf_test = pf.fit_transform(X_test)\n",
    "\n",
    "r2_trained_pf = preprocessed_lr.score(xpf, y_train)\n",
    "r2_test_pf = preprocessed_lr.score(xpf_test, y_test)\n",
    "medv_hat_pf = preprocessed_lr.predict(xpf[:5])\n",
    "print_value(\"Model: OLS with polynomial combination of degree <=2\", r2_trained_pf, r2_test_pf, \\\n",
    "            medv_hat_pf, medv_lr)      "
   ]
  },
  {
   "cell_type": "markdown",
   "id": "b1616690",
   "metadata": {},
   "source": [
    "## 4.4\n",
    "Comment on your results in 4.3, which model do you think is the best? Explain you answer."
   ]
  },
  {
   "cell_type": "markdown",
   "id": "718c0a15",
   "metadata": {},
   "source": [
    "### _Answer:_\n",
    "\n",
    "The third model (OLS with polynomial combination of degree <=2) is the best. The reasons are as below:\n",
    "1. The $R^{2}$ of both training set and test set is more approximate to 1, comparing to other 2 models. This represents that the model fits better with the actual data\n",
    "2. The predicted MEDV and actual MEDV fits quite well"
   ]
  },
  {
   "cell_type": "markdown",
   "id": "bf8555dd",
   "metadata": {},
   "source": [
    "## 4.5\n",
    "Consider the linear regression model using all original features you built above. Holding all other variables equal, what effect does the model predict that an increase in 0.1 parts per 10 million nitric oxide concentration in a place will have on the median value of of owner-occupied homes in that place? Write code that will return and print the answer."
   ]
  },
  {
   "cell_type": "code",
   "execution_count": 27,
   "id": "b5b653ca",
   "metadata": {},
   "outputs": [
    {
     "name": "stdout",
     "output_type": "stream",
     "text": [
      "[-16.49636622]\n",
      "Change in value of -1649.63662161828 USD.\n"
     ]
    }
   ],
   "source": [
    "# y1 = kx + b\n",
    "# y2 = k (x + x_delta) + b\n",
    "# y2 - y1 = k*x_delta\n",
    "index = np.where(labels=='NOX')\n",
    "print(ols_linear_reg.coef_[index])\n",
    "beta = ols_linear_reg.coef_[index][0] * 0.1\n",
    "print('Change in value of', beta*1000, 'USD.')"
   ]
  }
 ],
 "metadata": {
  "kernelspec": {
   "display_name": "Python 3",
   "language": "python",
   "name": "python3"
  },
  "language_info": {
   "codemirror_mode": {
    "name": "ipython",
    "version": 3
   },
   "file_extension": ".py",
   "mimetype": "text/x-python",
   "name": "python",
   "nbconvert_exporter": "python",
   "pygments_lexer": "ipython3",
   "version": "3.8.8"
  },
  "varInspector": {
   "cols": {
    "lenName": 16,
    "lenType": 16,
    "lenVar": 40
   },
   "kernels_config": {
    "python": {
     "delete_cmd_postfix": "",
     "delete_cmd_prefix": "del ",
     "library": "var_list.py",
     "varRefreshCmd": "print(var_dic_list())"
    },
    "r": {
     "delete_cmd_postfix": ") ",
     "delete_cmd_prefix": "rm(",
     "library": "var_list.r",
     "varRefreshCmd": "cat(var_dic_list()) "
    }
   },
   "types_to_exclude": [
    "module",
    "function",
    "builtin_function_or_method",
    "instance",
    "_Feature"
   ],
   "window_display": false
  }
 },
 "nbformat": 4,
 "nbformat_minor": 5
}
