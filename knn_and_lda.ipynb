{
 "cells": [
  {
   "cell_type": "markdown",
   "metadata": {},
   "source": [
    "# Section 07 - Classfication\n",
    "### Introduction to Data Science EN.553.436/EN.553.636 - Fall 2021"
   ]
  },
  {
   "cell_type": "code",
   "execution_count": 2,
   "metadata": {},
   "outputs": [],
   "source": [
    "import numpy as np \n",
    "import pandas as pd\n",
    "import seaborn as sns\n",
    "import matplotlib.pyplot as plt\n",
    "from sklearn.ensemble import ExtraTreesClassifier\n",
    "from sklearn.model_selection import train_test_split\n",
    "from sklearn.preprocessing import StandardScaler\n",
    "from sklearn.decomposition import PCA\n",
    "from sklearn.metrics import accuracy_score,classification_report,mean_squared_error,confusion_matrix, r2_score, roc_curve, auc"
   ]
  },
  {
   "cell_type": "markdown",
   "metadata": {},
   "source": [
    "### Classification\n",
    "\n",
    "Classification is the task of approximating a mapping function (f) from input variables (X) to **discrete output variables (y)**. The output variables are often called `labels` or `categories`. A classification problem with two classes is often called binary classification problem. A problem with more than two classes is often called a multi-class classification problem.\n",
    "\n",
    "For example, an email of text can be classified as belonging to one of two classes: “spam“ and “not spam“;"
   ]
  },
  {
   "cell_type": "markdown",
   "metadata": {},
   "source": [
    "### Classification vs Regression \n",
    "\n",
    "Recap: Regression is the task of approximating a mapping function (f) from input variables (X) to a **continuous output variable (y)**. A continuous output variable is a real-value, such as an integer or floating point value.\n",
    "\n",
    "| Classification | Regression |\n",
    "| --- | --- |\n",
    "| discrete | countious|\n",
    "| In Regression, we try to find the best fit line, which can predict the output more accurately. | In Classification, we try to find the decision boundary, which can divide the dataset into different classes.|\n",
    "| Classification predictions can be evaluated using accuracy, whereas regression predictions cannot.|Regression predictions can be evaluated using mean squared error, whereas classification predictions cannot.\n",
    "\n",
    "<img src=https://static.javatpoint.com/tutorial/machine-learning/images/regression-vs-classification-in-machine-learning.png alt=\"image info\" style=\"width: 500px;\"/>\n",
    "\n"
   ]
  },
  {
   "cell_type": "markdown",
   "metadata": {},
   "source": [
    "### DataSet\n",
    "\n",
    "Due to spread of COVID-19, vaccine development is being demanded as soon as possible. The dataset we use in this notebook describes the [B-cell](https://www.google.com/url?sa=t&rct=j&q=&esrc=s&source=web&cd=&ved=2ahUKEwiDidjy38fzAhX5oHIEHVEOC0IQFnoECAwQAw&url=https%3A%2F%2Fwww.hindawi.com%2Fjournals%2Fjir%2F2017%2F2680160%2F&usg=AOvVaw1qjR4h3uzKaJu1p3eWWYIW) epitope predictions, which is the antigen portion binding to the immunoglobulin or antibody. \n",
    "\n",
    "\n",
    "`input_bcell.csv` : this is our main training data. It has 14387 rows and 14 columns.\n",
    "\n",
    "Columns Interpretions:\n",
    "* `parent_protein_id`: parent protein ID\n",
    "* `protein_seq`: parent protein sequence\n",
    "* `start_position`: start position of peptide\n",
    "* `end_position`: end position of peptide\n",
    "* `peptide_seq`: peptide sequence\n",
    "* `chou_fasman`: peptide feature, β turn\n",
    "* `emini`: peptide feature, relative surface accessibility\n",
    "* `kolaskar_tongaonkar`: peptide feature, antigenicity\n",
    "* `parker`: peptide feature, hydrophobicity\n",
    "* `isoelectric_point`: protein feature\n",
    "* `aromacity`: protein feature\n",
    "* `hydrophobicity`: protein feature\n",
    "* `stability`: protein feature\n",
    "* `target`: antibody valence (target value containing 0 and 1)"
   ]
  },
  {
   "cell_type": "markdown",
   "metadata": {},
   "source": [
    "### Q1 - KNN"
   ]
  },
  {
   "cell_type": "markdown",
   "metadata": {},
   "source": [
    "***KNN*** calculates the distance of a new data point to all other training data points. The distance can be of any type e.g Euclidean or Manhattan etc. Then it selects the K-nearest data points, where K can be any integer. Finally it assigns the data point to the class to which the majority of the K data points belong.\n",
    "<img src= https://s3.amazonaws.com/stackabuse/media/k-nearest-neighbors-algorithm-python-scikit-learn-2.png alt=\"image info\" style=\"width: 300px;\"/>\n",
    "\n",
    "For instance, we want to classify a new point 'X' belongs to Blue class or Red class. We can use KNN with number of neighbors equal to `3`, where it means finds the `3 nearest points` with least distance to point X. KNN first calcualtes the distance btween X and all other points, then pick 3 nearest points (circled above). Since there are two Red points and one Blue point inside the circle, then we choose Red to be the class of X."
   ]
  },
  {
   "cell_type": "markdown",
   "metadata": {},
   "source": [
    "**Read the dataset, create a correlation matrix, split the data with 30% testing, and apply KNN to do classification with number of neighbors equal to 3. What is the prediction accuracy?**"
   ]
  },
  {
   "cell_type": "code",
   "execution_count": 3,
   "metadata": {},
   "outputs": [
    {
     "data": {
      "text/html": [
       "<div>\n",
       "<style scoped>\n",
       "    .dataframe tbody tr th:only-of-type {\n",
       "        vertical-align: middle;\n",
       "    }\n",
       "\n",
       "    .dataframe tbody tr th {\n",
       "        vertical-align: top;\n",
       "    }\n",
       "\n",
       "    .dataframe thead th {\n",
       "        text-align: right;\n",
       "    }\n",
       "</style>\n",
       "<table border=\"1\" class=\"dataframe\">\n",
       "  <thead>\n",
       "    <tr style=\"text-align: right;\">\n",
       "      <th></th>\n",
       "      <th>parent_protein_id</th>\n",
       "      <th>protein_seq</th>\n",
       "      <th>start_position</th>\n",
       "      <th>end_position</th>\n",
       "      <th>peptide_seq</th>\n",
       "      <th>chou_fasman</th>\n",
       "      <th>emini</th>\n",
       "      <th>kolaskar_tongaonkar</th>\n",
       "      <th>parker</th>\n",
       "      <th>isoelectric_point</th>\n",
       "      <th>aromaticity</th>\n",
       "      <th>hydrophobicity</th>\n",
       "      <th>stability</th>\n",
       "      <th>target</th>\n",
       "    </tr>\n",
       "  </thead>\n",
       "  <tbody>\n",
       "    <tr>\n",
       "      <th>0</th>\n",
       "      <td>A2T3T0</td>\n",
       "      <td>MDVLYSLSKTLKDARDKIVEGTLYSNVSDLIQQFNQMIITMNGNEF...</td>\n",
       "      <td>161</td>\n",
       "      <td>165</td>\n",
       "      <td>SASFT</td>\n",
       "      <td>1.016</td>\n",
       "      <td>0.703</td>\n",
       "      <td>1.018</td>\n",
       "      <td>2.22</td>\n",
       "      <td>5.810364</td>\n",
       "      <td>0.103275</td>\n",
       "      <td>-0.143829</td>\n",
       "      <td>40.273300</td>\n",
       "      <td>1</td>\n",
       "    </tr>\n",
       "    <tr>\n",
       "      <th>1</th>\n",
       "      <td>F0V2I4</td>\n",
       "      <td>MTIHKVAINGFGRIGRLLFRNLLSSQGVQVVAVNDVVDIKVLTHLL...</td>\n",
       "      <td>251</td>\n",
       "      <td>255</td>\n",
       "      <td>LCLKI</td>\n",
       "      <td>0.770</td>\n",
       "      <td>0.179</td>\n",
       "      <td>1.199</td>\n",
       "      <td>-3.86</td>\n",
       "      <td>6.210876</td>\n",
       "      <td>0.065476</td>\n",
       "      <td>-0.036905</td>\n",
       "      <td>24.998512</td>\n",
       "      <td>1</td>\n",
       "    </tr>\n",
       "    <tr>\n",
       "      <th>2</th>\n",
       "      <td>O75508</td>\n",
       "      <td>MVATCLQVVGFVTSFVGWIGVIVTTSTNDWVVTCGYTIPTCRKLDE...</td>\n",
       "      <td>145</td>\n",
       "      <td>149</td>\n",
       "      <td>AHRET</td>\n",
       "      <td>0.852</td>\n",
       "      <td>3.427</td>\n",
       "      <td>0.960</td>\n",
       "      <td>4.28</td>\n",
       "      <td>8.223938</td>\n",
       "      <td>0.091787</td>\n",
       "      <td>0.879227</td>\n",
       "      <td>27.863333</td>\n",
       "      <td>1</td>\n",
       "    </tr>\n",
       "    <tr>\n",
       "      <th>3</th>\n",
       "      <td>O84462</td>\n",
       "      <td>MTNSISGYQPTVTTSTSSTTSASGASGSLGASSVSTTANATVTQTA...</td>\n",
       "      <td>152</td>\n",
       "      <td>156</td>\n",
       "      <td>SNYDD</td>\n",
       "      <td>1.410</td>\n",
       "      <td>2.548</td>\n",
       "      <td>0.936</td>\n",
       "      <td>6.32</td>\n",
       "      <td>4.237976</td>\n",
       "      <td>0.044776</td>\n",
       "      <td>-0.521393</td>\n",
       "      <td>30.765373</td>\n",
       "      <td>1</td>\n",
       "    </tr>\n",
       "    <tr>\n",
       "      <th>4</th>\n",
       "      <td>P00918</td>\n",
       "      <td>MSHHWGYGKHNGPEHWHKDFPIAKGERQSPVDIDTHTAKYDPSLKP...</td>\n",
       "      <td>85</td>\n",
       "      <td>89</td>\n",
       "      <td>DGTYR</td>\n",
       "      <td>1.214</td>\n",
       "      <td>1.908</td>\n",
       "      <td>0.937</td>\n",
       "      <td>4.64</td>\n",
       "      <td>6.867493</td>\n",
       "      <td>0.103846</td>\n",
       "      <td>-0.578846</td>\n",
       "      <td>21.684615</td>\n",
       "      <td>1</td>\n",
       "    </tr>\n",
       "  </tbody>\n",
       "</table>\n",
       "</div>"
      ],
      "text/plain": [
       "  parent_protein_id                                        protein_seq  \\\n",
       "0            A2T3T0  MDVLYSLSKTLKDARDKIVEGTLYSNVSDLIQQFNQMIITMNGNEF...   \n",
       "1            F0V2I4  MTIHKVAINGFGRIGRLLFRNLLSSQGVQVVAVNDVVDIKVLTHLL...   \n",
       "2            O75508  MVATCLQVVGFVTSFVGWIGVIVTTSTNDWVVTCGYTIPTCRKLDE...   \n",
       "3            O84462  MTNSISGYQPTVTTSTSSTTSASGASGSLGASSVSTTANATVTQTA...   \n",
       "4            P00918  MSHHWGYGKHNGPEHWHKDFPIAKGERQSPVDIDTHTAKYDPSLKP...   \n",
       "\n",
       "   start_position  end_position peptide_seq  chou_fasman  emini  \\\n",
       "0             161           165       SASFT        1.016  0.703   \n",
       "1             251           255       LCLKI        0.770  0.179   \n",
       "2             145           149       AHRET        0.852  3.427   \n",
       "3             152           156       SNYDD        1.410  2.548   \n",
       "4              85            89       DGTYR        1.214  1.908   \n",
       "\n",
       "   kolaskar_tongaonkar  parker  isoelectric_point  aromaticity  \\\n",
       "0                1.018    2.22           5.810364     0.103275   \n",
       "1                1.199   -3.86           6.210876     0.065476   \n",
       "2                0.960    4.28           8.223938     0.091787   \n",
       "3                0.936    6.32           4.237976     0.044776   \n",
       "4                0.937    4.64           6.867493     0.103846   \n",
       "\n",
       "   hydrophobicity  stability  target  \n",
       "0       -0.143829  40.273300       1  \n",
       "1       -0.036905  24.998512       1  \n",
       "2        0.879227  27.863333       1  \n",
       "3       -0.521393  30.765373       1  \n",
       "4       -0.578846  21.684615       1  "
      ]
     },
     "execution_count": 3,
     "metadata": {},
     "output_type": "execute_result"
    }
   ],
   "source": [
    "# read table\n",
    "df = pd.read_csv(\"input_bcell.csv\")\n",
    "df.head()"
   ]
  },
  {
   "cell_type": "code",
   "execution_count": 6,
   "metadata": {},
   "outputs": [
    {
     "data": {
      "image/png": "[encoded data removed]",
      "text/plain": [
       "<Figure size 432x288 with 2 Axes>"
      ]
     },
     "metadata": {
      "needs_background": "light"
     },
     "output_type": "display_data"
    }
   ],
   "source": [
    "# correlation matrix\n",
    "sns.heatmap(df.corr())\n",
    "plt.show()"
   ]
  },
  {
   "cell_type": "code",
   "execution_count": 7,
   "metadata": {},
   "outputs": [],
   "source": [
    "# prepare training and testing set\n",
    "X = df.drop(['target', 'parent_protein_id', 'protein_seq', 'peptide_seq'], axis = 1)\n",
    "y = df['target']\n",
    "#train_test split\n",
    "X_train, X_test, y_train, y_test = train_test_split(X, y, test_size = 0.3)"
   ]
  },
  {
   "cell_type": "code",
   "execution_count": 9,
   "metadata": {},
   "outputs": [
    {
     "name": "stdout",
     "output_type": "stream",
     "text": [
      "The accuracy for KNN(n=3) model prediction is:  0.7410238591614547\n"
     ]
    }
   ],
   "source": [
    "# do KNN\n",
    "from sklearn.neighbors import KNeighborsClassifier\n",
    "\n",
    "knn_model = KNeighborsClassifier(n_neighbors=3)\n",
    "knn_model.fit(X_train, y_train)\n",
    "\n",
    "knn_preds_n3 = knn_model.predict(X_test)\n",
    "print('The accuracy for KNN(n=3) model prediction is: ', accuracy_score(y_test,knn_preds_n3))"
   ]
  },
  {
   "cell_type": "markdown",
   "metadata": {},
   "source": [
    "**Try to use different number of neighbors, such as [1,3,4,6,10,30,50] in KNN classifier and plot the prediction accuracy. What can you observe? How to choose number of neighbors in KNN?**"
   ]
  },
  {
   "cell_type": "code",
   "execution_count": 12,
   "metadata": {},
   "outputs": [],
   "source": [
    "# see different number of neighbors\n",
    "neighbors = [1,3,4,6,10,30,50]\n",
    "knn_score_lst = []\n",
    "\n",
    "for i in neighbors:\n",
    "    knn_model = KNeighborsClassifier(n_neighbors=i)\n",
    "    knn_model.fit(X_train, y_train)\n",
    "    preds = knn_model.predict(X_test)\n",
    "    accuracy = accuracy_score(y_test,preds)\n",
    "    mse = mean_squared_error(y_test,preds)\n",
    "    knn_score_lst.append(accuracy)"
   ]
  },
  {
   "cell_type": "code",
   "execution_count": 13,
   "metadata": {},
   "outputs": [
    {
     "data": {
      "image/png": "[encoded data removed]",
      "text/plain": [
       "<Figure size 432x288 with 1 Axes>"
      ]
     },
     "metadata": {
      "needs_background": "light"
     },
     "output_type": "display_data"
    }
   ],
   "source": [
    "# generate a line graph with above result\n",
    "plt.plot(neighbors, knn_score_lst, \"-o\", label = \"accuracy\")\n",
    "plt.xlabel('number of neighbors')\n",
    "# Set the y axis label of the current axis.\n",
    "plt.ylabel('result')\n",
    "# Set a title of the current axes.\n",
    "plt.title('Accuracy for KNN with different n_neighbors')\n",
    "# show a legend on the plot\n",
    "plt.legend()\n",
    "# Display a figure.\n",
    "plt.show()"
   ]
  },
  {
   "cell_type": "markdown",
   "metadata": {},
   "source": [
    "Observation:"
   ]
  },
  {
   "cell_type": "markdown",
   "metadata": {},
   "source": [
    "### Q2 - LDA"
   ]
  },
  {
   "cell_type": "markdown",
   "metadata": {},
   "source": [
    "***LDA*** is a `dimensionality reduction` technique. It reduces the number of dimensions (i.e. variables or dimensions or features) in a dataset while retaining as much information as possible. LDA works by calculating summary statistics for the input features by class label, such as the mean and standard deviation. It uses those information to create a new axis and `projects the data` on to the new axis in such a way as to minimizes the variance and maximizes the distance between the means of the two classes.\n",
    "\n",
    "***Comparing LDA and PCA:***\n",
    "<img src=https://nirpyresearch.com/wp-content/uploads/2018/11/PCAvsLDA-1024x467.png alt=\"image info\" style=\"width: 500px;\"/>"
   ]
  },
  {
   "cell_type": "markdown",
   "metadata": {},
   "source": [
    "**Apply LDA to do classification. What is the prediction accuracy?**"
   ]
  },
  {
   "cell_type": "code",
   "execution_count": 14,
   "metadata": {},
   "outputs": [
    {
     "name": "stdout",
     "output_type": "stream",
     "text": [
      "The accuracy for LDA model prediction is:  0.7338429464906184\n"
     ]
    }
   ],
   "source": [
    "# create LDA model\n",
    "from sklearn.discriminant_analysis import LinearDiscriminantAnalysis as LDA\n",
    "\n",
    "# create LDA model\n",
    "LDA_model = LDA()\n",
    "LDA_model.fit(X_train, y_train)\n",
    "# predict target\n",
    "LDA_preds = LDA_model.predict(X_test)\n",
    "# check results\n",
    "print('The accuracy for LDA model prediction is: ', accuracy_score(y_test,LDA_preds))"
   ]
  },
  {
   "cell_type": "markdown",
   "metadata": {},
   "source": [
    "### Q4 - Combine Normalization and PCA with Classification problem"
   ]
  },
  {
   "cell_type": "markdown",
   "metadata": {},
   "source": [
    "Combine methods we learnt before with this classfication problem. First apply normalization to KNN and LDA models. Then apply both normalization and PCA to those two models. Do Normalization or PCA help increase the accuracy score? Why"
   ]
  },
  {
   "cell_type": "code",
   "execution_count": 16,
   "metadata": {},
   "outputs": [
    {
     "name": "stdout",
     "output_type": "stream",
     "text": [
      "The accuracy for KNN model prediction is:  0.7887421820708825\n",
      "The accuracy for LDA model prediction is:  0.7338429464906184\n"
     ]
    }
   ],
   "source": [
    "# Normalize data \n",
    "sc = StandardScaler()\n",
    "X_train_scaled = sc.fit_transform(X_train)\n",
    "X_test_scaled = sc.transform(X_test)\n",
    "\n",
    "knn_model_scaled = KNeighborsClassifier(n_neighbors=3)\n",
    "knn_model_scaled.fit(X_train_scaled, y_train)\n",
    "knn_preds_n3_scaled = knn_model_scaled.predict(X_test_scaled)\n",
    "print('The accuracy for KNN model prediction is: ', accuracy_score(y_test,knn_preds_n3_scaled))\n",
    "\n",
    "# create LDA model\n",
    "LDA_model_scaled = LDA()\n",
    "LDA_model_scaled.fit(X_train_scaled, y_train)\n",
    "# predict target\n",
    "LDA_preds_scaled = LDA_model_scaled.predict(X_test_scaled)\n",
    "# check results\n",
    "print('The accuracy for LDA model prediction is: ', accuracy_score(y_test,LDA_preds_scaled))"
   ]
  },
  {
   "cell_type": "code",
   "execution_count": 18,
   "metadata": {},
   "outputs": [
    {
     "name": "stdout",
     "output_type": "stream",
     "text": [
      "The accuracy for KNN model prediction is:  0.7600185313875376\n",
      "The accuracy for LDA model prediction is:  0.7317581653926337\n"
     ]
    }
   ],
   "source": [
    "# Normalize data and apply PCA\n",
    "pca = PCA(n_components=5) \n",
    "pca_train = pca.fit_transform(X_train_scaled)\n",
    "pca_test = pca.transform(X_test_scaled)\n",
    "\n",
    "knn_model_scaled = KNeighborsClassifier(n_neighbors=3)\n",
    "knn_model_scaled.fit(pca_train, y_train)\n",
    "knn_preds_n3_scaled = knn_model_scaled.predict(pca_test)\n",
    "print('The accuracy for KNN model prediction is: ', accuracy_score(y_test,knn_preds_n3_scaled))\n",
    "\n",
    "# create LDA model\n",
    "LDA_model_scaled = LDA()\n",
    "LDA_model_scaled.fit(pca_train, y_train)\n",
    "# predict target\n",
    "LDA_preds_scaled = LDA_model_scaled.predict(pca_test)\n",
    "# check results\n",
    "print('The accuracy for LDA model prediction is: ', accuracy_score(y_test,LDA_preds_scaled))"
   ]
  },
  {
   "cell_type": "markdown",
   "metadata": {},
   "source": [
    "**Reference**\n",
    "\n",
    "document:\n",
    "\n",
    "https://www.javatpoint.com/regression-vs-classification-in-machine-learning\n",
    "\n",
    "https://machinelearningmastery.com/classification-versus-regression-in-machine-learning/\n",
    "\n",
    "https://medium.com/machine-learning-algorithms-from-scratch/naive-bayes-classification-from-scratch-in-python-e3a48bf5f91a\n",
    "\n",
    "data: \n",
    "\n",
    "https://future-architect.github.io/articles/20200801/\n",
    "\n",
    "https://www.kaggle.com/futurecorporation/epitope-prediction?select=input_bcell.csv\n"
   ]
  }
 ],
 "metadata": {
  "kernelspec": {
   "display_name": "Python 3",
   "language": "python",
   "name": "python3"
  },
  "language_info": {
   "codemirror_mode": {
    "name": "ipython",
    "version": 3
   },
   "file_extension": ".py",
   "mimetype": "text/x-python",
   "name": "python",
   "nbconvert_exporter": "python",
   "pygments_lexer": "ipython3",
   "version": "3.8.8"
  }
 },
 "nbformat": 4,
 "nbformat_minor": 4
}
