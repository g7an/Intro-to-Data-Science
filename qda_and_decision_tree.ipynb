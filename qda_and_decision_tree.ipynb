{
 "cells": [
  {
   "cell_type": "markdown",
   "id": "0b4f7dfb",
   "metadata": {},
   "source": [
    "# Section 08 - More Classification\n",
    "### Introduction to Data Science EN.553.436/EN.553.636 - Fall 2021"
   ]
  },
  {
   "cell_type": "markdown",
   "id": "b5cfe970",
   "metadata": {},
   "source": [
    "For this analysis we will use the phoneme data set from OpenML. Read the full description [here](https://www.openml.org/d/1489), but key details are below:\n",
    "\n",
    "Features:\n",
    "- V1: Amplitude of first harmonic\n",
    "- V2: Amplitude of second harmonic\n",
    "- V3: Amplitude of third harmonic\n",
    "- V4: Amplitude of fourth harmonic\n",
    "- V5: Amplitude of fifth harmonic\n",
    "\n",
    "Classes:\n",
    "- 1 - Nasal vowel\n",
    "- 2 - Oral vowel\n",
    "\n",
    "You will first need to download the .csv file on blackboard, and save it in the same folder as this notebook."
   ]
  },
  {
   "cell_type": "code",
   "execution_count": 3,
   "id": "92dec3fb",
   "metadata": {},
   "outputs": [
    {
     "data": {
      "text/html": [
       "<div>\n",
       "<style scoped>\n",
       "    .dataframe tbody tr th:only-of-type {\n",
       "        vertical-align: middle;\n",
       "    }\n",
       "\n",
       "    .dataframe tbody tr th {\n",
       "        vertical-align: top;\n",
       "    }\n",
       "\n",
       "    .dataframe thead th {\n",
       "        text-align: right;\n",
       "    }\n",
       "</style>\n",
       "<table border=\"1\" class=\"dataframe\">\n",
       "  <thead>\n",
       "    <tr style=\"text-align: right;\">\n",
       "      <th></th>\n",
       "      <th>V1</th>\n",
       "      <th>V2</th>\n",
       "      <th>V3</th>\n",
       "      <th>V4</th>\n",
       "      <th>V5</th>\n",
       "      <th>Class</th>\n",
       "    </tr>\n",
       "  </thead>\n",
       "  <tbody>\n",
       "    <tr>\n",
       "      <th>0</th>\n",
       "      <td>0.489927</td>\n",
       "      <td>-0.451528</td>\n",
       "      <td>-1.047990</td>\n",
       "      <td>-0.598693</td>\n",
       "      <td>-0.020418</td>\n",
       "      <td>1</td>\n",
       "    </tr>\n",
       "    <tr>\n",
       "      <th>1</th>\n",
       "      <td>-0.641265</td>\n",
       "      <td>0.109245</td>\n",
       "      <td>0.292130</td>\n",
       "      <td>-0.916804</td>\n",
       "      <td>0.240223</td>\n",
       "      <td>1</td>\n",
       "    </tr>\n",
       "    <tr>\n",
       "      <th>2</th>\n",
       "      <td>0.870593</td>\n",
       "      <td>-0.459862</td>\n",
       "      <td>0.578159</td>\n",
       "      <td>0.806634</td>\n",
       "      <td>0.835248</td>\n",
       "      <td>1</td>\n",
       "    </tr>\n",
       "    <tr>\n",
       "      <th>3</th>\n",
       "      <td>-0.628439</td>\n",
       "      <td>-0.316284</td>\n",
       "      <td>1.934295</td>\n",
       "      <td>-1.427099</td>\n",
       "      <td>-0.136583</td>\n",
       "      <td>1</td>\n",
       "    </tr>\n",
       "    <tr>\n",
       "      <th>4</th>\n",
       "      <td>-0.596399</td>\n",
       "      <td>0.015938</td>\n",
       "      <td>2.043206</td>\n",
       "      <td>-1.688448</td>\n",
       "      <td>-0.948127</td>\n",
       "      <td>1</td>\n",
       "    </tr>\n",
       "    <tr>\n",
       "      <th>...</th>\n",
       "      <td>...</td>\n",
       "      <td>...</td>\n",
       "      <td>...</td>\n",
       "      <td>...</td>\n",
       "      <td>...</td>\n",
       "      <td>...</td>\n",
       "    </tr>\n",
       "    <tr>\n",
       "      <th>5399</th>\n",
       "      <td>-0.658318</td>\n",
       "      <td>1.331760</td>\n",
       "      <td>-0.081621</td>\n",
       "      <td>1.794253</td>\n",
       "      <td>-1.082181</td>\n",
       "      <td>1</td>\n",
       "    </tr>\n",
       "    <tr>\n",
       "      <th>5400</th>\n",
       "      <td>-0.044375</td>\n",
       "      <td>-0.010512</td>\n",
       "      <td>0.030989</td>\n",
       "      <td>-0.019379</td>\n",
       "      <td>1.281061</td>\n",
       "      <td>2</td>\n",
       "    </tr>\n",
       "    <tr>\n",
       "      <th>5401</th>\n",
       "      <td>0.246882</td>\n",
       "      <td>-0.793228</td>\n",
       "      <td>1.190101</td>\n",
       "      <td>1.423194</td>\n",
       "      <td>-1.303036</td>\n",
       "      <td>2</td>\n",
       "    </tr>\n",
       "    <tr>\n",
       "      <th>5402</th>\n",
       "      <td>-0.778907</td>\n",
       "      <td>-0.383111</td>\n",
       "      <td>1.727029</td>\n",
       "      <td>-1.432389</td>\n",
       "      <td>-1.208085</td>\n",
       "      <td>1</td>\n",
       "    </tr>\n",
       "    <tr>\n",
       "      <th>5403</th>\n",
       "      <td>-0.794604</td>\n",
       "      <td>-0.640053</td>\n",
       "      <td>0.632221</td>\n",
       "      <td>0.720280</td>\n",
       "      <td>-1.231182</td>\n",
       "      <td>2</td>\n",
       "    </tr>\n",
       "  </tbody>\n",
       "</table>\n",
       "<p>5404 rows × 6 columns</p>\n",
       "</div>"
      ],
      "text/plain": [
       "            V1        V2        V3        V4        V5  Class\n",
       "0     0.489927 -0.451528 -1.047990 -0.598693 -0.020418      1\n",
       "1    -0.641265  0.109245  0.292130 -0.916804  0.240223      1\n",
       "2     0.870593 -0.459862  0.578159  0.806634  0.835248      1\n",
       "3    -0.628439 -0.316284  1.934295 -1.427099 -0.136583      1\n",
       "4    -0.596399  0.015938  2.043206 -1.688448 -0.948127      1\n",
       "...        ...       ...       ...       ...       ...    ...\n",
       "5399 -0.658318  1.331760 -0.081621  1.794253 -1.082181      1\n",
       "5400 -0.044375 -0.010512  0.030989 -0.019379  1.281061      2\n",
       "5401  0.246882 -0.793228  1.190101  1.423194 -1.303036      2\n",
       "5402 -0.778907 -0.383111  1.727029 -1.432389 -1.208085      1\n",
       "5403 -0.794604 -0.640053  0.632221  0.720280 -1.231182      2\n",
       "\n",
       "[5404 rows x 6 columns]"
      ]
     },
     "metadata": {},
     "output_type": "display_data"
    }
   ],
   "source": [
    "## Import data set\n",
    "import pandas as pd\n",
    "import numpy as np\n",
    "vowel_df = pd.read_csv(\"vowel_data.csv\")\n",
    "display(vowel_df)"
   ]
  },
  {
   "cell_type": "markdown",
   "id": "9bd65869",
   "metadata": {},
   "source": [
    "To make this data easier to graph and visualize, we will only work with the first two features and drop the rest:"
   ]
  },
  {
   "cell_type": "code",
   "execution_count": 14,
   "id": "c3364de8",
   "metadata": {},
   "outputs": [
    {
     "name": "stdout",
     "output_type": "stream",
     "text": [
      "[1, 2]\n",
      "Features 1 and 2: \n",
      "\n",
      "[[ 0.489927 -0.451528]\n",
      " [-0.641265  0.109245]\n",
      " [ 0.870593 -0.459862]\n",
      " ...\n",
      " [ 0.246882 -0.793228]\n",
      " [-0.778907 -0.383111]\n",
      " [-0.794604 -0.640053]]\n",
      "\n",
      " Class:\n",
      "[1 1 1 ... 2 1 2]\n"
     ]
    }
   ],
   "source": [
    "X = np.array(vowel_df[['V1','V2']])\n",
    "y = np.array(vowel_df['Class'])\n",
    "print(np.unique(y).tolist())\n",
    "print('Features 1 and 2: \\n')\n",
    "print(X)\n",
    "print('\\n Class:')\n",
    "print(y)"
   ]
  },
  {
   "cell_type": "markdown",
   "id": "e191c689",
   "metadata": {},
   "source": [
    "# 1. Quadratic Discriminant Analysis (QDA)"
   ]
  },
  {
   "cell_type": "markdown",
   "id": "a9f159c7",
   "metadata": {},
   "source": [
    "## 1.1\n",
    "**Use a 30% train-test split and implement QDA and LDA on the same data (Use random state 235). Compare the accuracy scores between QDA and LDA.**"
   ]
  },
  {
   "cell_type": "code",
   "execution_count": 5,
   "id": "a492dfcf",
   "metadata": {},
   "outputs": [
    {
     "name": "stdout",
     "output_type": "stream",
     "text": [
      "The test accuracy for QDA model prediction is: 0.6985203452527744\n",
      "\n",
      "The test accuracy for QDA model prediction is: 0.687422934648582\n"
     ]
    }
   ],
   "source": [
    "from sklearn.discriminant_analysis import LinearDiscriminantAnalysis as LDA\n",
    "from sklearn.discriminant_analysis import QuadraticDiscriminantAnalysis as QDA\n",
    "from sklearn.model_selection import train_test_split\n",
    "from sklearn.metrics import accuracy_score\n",
    "\n",
    "X_train,X_test,y_train,y_test = train_test_split(X, y, test_size = 0.3, random_state=235)\n",
    "\n",
    "QDA_model = QDA()\n",
    "QDA_model.fit(X_train, y_train.ravel())\n",
    "QDA_preds = QDA_model.predict(X_test)\n",
    "print(f'The test accuracy for QDA model prediction is: {accuracy_score(QDA_preds, y_test)}\\n')\n",
    "\n",
    "LDA_model = LDA()\n",
    "LDA_model.fit(X_train, y_train.ravel())\n",
    "LDA_preds = LDA_model.predict(X_test)\n",
    "print(f'The test accuracy for QDA model prediction is: {accuracy_score(LDA_preds, y_test)}')"
   ]
  },
  {
   "cell_type": "markdown",
   "id": "f0ce4f1f",
   "metadata": {},
   "source": [
    "## 1.2 \n",
    "**Compare the prediction results from QDA and LDA. Determine the number of test data points for which QDA and LDA predicted different classes.**"
   ]
  },
  {
   "cell_type": "code",
   "execution_count": 6,
   "id": "4cd50646",
   "metadata": {},
   "outputs": [
    {
     "name": "stdout",
     "output_type": "stream",
     "text": [
      "Total points with different predictions: 462\n",
      "Ratio of points with different predictions: 0.2848335388409371\n"
     ]
    }
   ],
   "source": [
    "diff = (QDA_preds != LDA_preds)\n",
    "print('Total points with different predictions: ' + str(np.sum(diff)))\n",
    "print('Ratio of points with different predictions: ' + str(np.sum(diff)/len(diff)))"
   ]
  },
  {
   "cell_type": "markdown",
   "id": "fdcb2a81",
   "metadata": {},
   "source": [
    "## 1.3\n",
    "When we are dealing with 2 classes, we can plot a decision boundary where the probability of Class 1 is equal to the probability of Class 2. This concept becomes much less straightforward when dealing with more than 2 classes.\n",
    "\n",
    "The plot below will show the decision boundaries for QDA and LDA (Which one is which?), along with the actual classes for each of the test points."
   ]
  },
  {
   "cell_type": "code",
   "execution_count": 7,
   "id": "527b593e",
   "metadata": {},
   "outputs": [
    {
     "data": {
      "image/png": "[encoded data removed]",
      "text/plain": [
       "<Figure size 432x288 with 1 Axes>"
      ]
     },
     "metadata": {
      "needs_background": "light"
     },
     "output_type": "display_data"
    }
   ],
   "source": [
    "import matplotlib.pyplot as plt\n",
    "\n",
    "\n",
    "x_min = -3\n",
    "x_max = 4\n",
    "y_min = -5\n",
    "y_max = 4\n",
    "\n",
    "xx, yy = np.meshgrid(np.linspace(x_min, x_max, 200),np.linspace(y_min, y_max, 200))\n",
    "\n",
    "Z_QDA = QDA_model.predict_proba(np.c_[xx.ravel(), yy.ravel()])\n",
    "Z_QDA = Z_QDA[:, 1].reshape(xx.shape)\n",
    "\n",
    "Z_LDA = LDA_model.predict_proba(np.c_[xx.ravel(), yy.ravel()])\n",
    "Z_LDA = Z_LDA[:,1].reshape(xx.shape)\n",
    "\n",
    "plt.contour(xx, yy, Z_QDA, [0.50], linewidths=2, colors='black') ##Draw the boundary where P = 0.50\n",
    "plt.contour(xx, yy, Z_LDA, [0.50], linewidths=2, colors ='black') ## Draw the boundary where P = 0.50\n",
    "\n",
    "plt.plot(X_test[y_test==1,0],X_test[y_test==1,1],'.b')\n",
    "plt.plot(X_test[y_test==2,0],X_test[y_test==2,1],'.r')\n",
    "\n",
    "plt.xlabel('V1')\n",
    "plt.ylabel('V2')\n",
    "plt.legend(['Class 1','Class 2'])\n",
    "plt.show()\n",
    "#####\n"
   ]
  },
  {
   "cell_type": "markdown",
   "id": "438b7291",
   "metadata": {},
   "source": [
    "**Create a new plot using the same decision boundaries, but this time add the following points from your test set (with different markers):**\n",
    "- Both LDA and QDA predict class 1\n",
    "- Both LDA and QDA predict class 0\n",
    "- LDA and QDA have different predictions"
   ]
  },
  {
   "cell_type": "code",
   "execution_count": null,
   "id": "7d05b17a",
   "metadata": {},
   "outputs": [],
   "source": []
  },
  {
   "cell_type": "markdown",
   "id": "dda9551a",
   "metadata": {},
   "source": [
    "# 2. Binary Decision Tree"
   ]
  },
  {
   "cell_type": "markdown",
   "id": "a268fce4",
   "metadata": {},
   "source": [
    "## 2.1\n",
    "**Using the same train and test data sets, classify the data using a binary decision tree with maximum depth 5.**"
   ]
  },
  {
   "cell_type": "code",
   "execution_count": 8,
   "id": "33d3ae80",
   "metadata": {},
   "outputs": [],
   "source": [
    "from sklearn import tree"
   ]
  },
  {
   "cell_type": "markdown",
   "id": "e76cbc98",
   "metadata": {},
   "source": [
    "## 2.2\n",
    "The following cell plots the decision boundaries of your binary tree. \n",
    "**Observe the differences between the binary tree, LDA, and QDA.**"
   ]
  },
  {
   "cell_type": "code",
   "execution_count": 10,
   "id": "110d1e74",
   "metadata": {},
   "outputs": [
    {
     "name": "stdout",
     "output_type": "stream",
     "text": [
      "Accuracy: 0.7681874229346486\n"
     ]
    },
    {
     "data": {
      "image/png": "[encoded data removed]",
      "text/plain": [
       "<Figure size 432x288 with 1 Axes>"
      ]
     },
     "metadata": {
      "needs_background": "light"
     },
     "output_type": "display_data"
    }
   ],
   "source": [
    "## Update this line\n",
    "Tree = tree.DecisionTreeClassifier(max_depth=5)\n",
    "Tree.fit(X_train, y_train)\n",
    "y_predict_tree = Tree.predict(X_test)\n",
    "score = accuracy_score(y_predict_tree,y_test)\n",
    "print(f'Accuracy: {str(score)}')\n",
    "###\n",
    "\n",
    "Z_Tree = Tree.predict(np.c_[xx.ravel(), yy.ravel()])\n",
    "Z_Tree = Z_Tree.reshape(xx.shape)\n",
    "plt.contourf(xx,yy,Z_Tree)\n",
    "plt.plot(X_test[y_test==1,0],X_test[y_test==1,1],'.b')\n",
    "plt.plot(X_test[y_test==2,0],X_test[y_test==2,1],'.y')\n",
    "plt.xlabel('V1')\n",
    "plt.ylabel('V2')\n",
    "plt.legend(['Class 1','Class 2'])\n",
    "plt.show()"
   ]
  },
  {
   "cell_type": "markdown",
   "id": "df554596",
   "metadata": {},
   "source": [
    "## 2.3\n",
    "Gini is one option for evaluating whether one decision node leads to more purity than another.\n",
    "\n",
    "The Gini for a node with $K$ classes is defined by\n",
    "$H(D) = \\sum_{i=1}^K p_i (1-p_i)$\n",
    "\n",
    "Here $p_i$ represents the probability of a data point in that leaf node belonging to class $i$.\n",
    "To evaluate a split, we calculate the sum of the Ginis for the two leaf nodes. Gini is a measure of impurity so our goal is to\n",
    "**minimize** the Gini impurity."
   ]
  },
  {
   "cell_type": "markdown",
   "id": "cb8c9f13",
   "metadata": {},
   "source": [
    "**Determine the impurity in the original (training) dataset. Compare this to the sklearn calculation in the depth-1 tree below**"
   ]
  },
  {
   "cell_type": "code",
   "execution_count": 19,
   "id": "58262660",
   "metadata": {},
   "outputs": [
    {
     "name": "stdout",
     "output_type": "stream",
     "text": [
      "0.4120707596253902\n",
      "0.4120707596253902\n"
     ]
    }
   ],
   "source": [
    "## sklearn Gini calculation\n",
    "Tree_One = tree.DecisionTreeClassifier(max_depth=1)\n",
    "Tree_One.fit(X_train,y_train)\n",
    "print(Tree_One.tree_.impurity[0])\n",
    "# print('(sklearn) Gini Impurity in original data set: ' + str(Tree_One.tree_.impurity[0]))\n",
    "\n",
    "## manual Gini calculation\n",
    "p = []\n",
    "gini = 0\n",
    "classes = np.unique(y_train).tolist()\n",
    "\n",
    "for label in classes:\n",
    "    p.append(np.sum(y_train==label)/len(X_train))\n",
    "for p_i in p:\n",
    "    gini += p_i*(1-p_i)\n",
    "print(gini)"
   ]
  },
  {
   "cell_type": "markdown",
   "id": "3dbd6435",
   "metadata": {},
   "source": [
    "## 2.4 \n",
    "We can use cross validation to determine the best parameters to use for our classification model. For the case of binary trees, it can be used to determine what maximum depth to use.\n",
    "\n",
    "**For depths from 1 to 15, perform 10-fold cross validation on your binary tree, using your full data set. Calculate and plot the mean accuracy for each depth.**\n",
    "**What is the ideal maximum tree depth for our data? What do you observe as the depth increases to 20? 30?**\n"
   ]
  },
  {
   "cell_type": "code",
   "execution_count": 20,
   "id": "4981023e",
   "metadata": {},
   "outputs": [
    {
     "data": {
      "image/png": "[encoded data removed]",
      "text/plain": [
       "<Figure size 432x288 with 1 Axes>"
      ]
     },
     "metadata": {
      "needs_background": "light"
     },
     "output_type": "display_data"
    }
   ],
   "source": [
    "from sklearn.model_selection import cross_val_score\n",
    "\n",
    "mean_accuracy=[]\n",
    "n=30\n",
    "for i in np.arange(n):\n",
    "    Tree = tree.DecisionTreeClassifier(max_depth=i+1)\n",
    "    score = cross_val_score(Tree,X,y,cv=10,scoring='accuracy')\n",
    "    #print(score.shape)\n",
    "    mean_score = np.mean(score)\n",
    "    mean_accuracy.append(mean_score)\n",
    "\n",
    "depths = np.arange(n)+1 #shift by 1 since the arange starts at 0\n",
    "plt.plot(depths,mean_accuracy)\n",
    "plt.xlabel('Maximum Depth')\n",
    "plt.ylabel('Accuracy')\n",
    "plt.show()"
   ]
  }
 ],
 "metadata": {
  "kernelspec": {
   "display_name": "Python 3",
   "language": "python",
   "name": "python3"
  },
  "language_info": {
   "codemirror_mode": {
    "name": "ipython",
    "version": 3
   },
   "file_extension": ".py",
   "mimetype": "text/x-python",
   "name": "python",
   "nbconvert_exporter": "python",
   "pygments_lexer": "ipython3",
   "version": "3.8.8"
  }
 },
 "nbformat": 4,
 "nbformat_minor": 5
}
